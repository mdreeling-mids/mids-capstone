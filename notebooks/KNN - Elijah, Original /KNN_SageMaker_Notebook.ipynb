{
 "cells": [
  {
   "cell_type": "markdown",
   "id": "eca9c074",
   "metadata": {},
   "source": [
    "# KNN Model Training and Evaluation in Amazon SageMaker"
   ]
  },
  {
   "cell_type": "code",
   "execution_count": null,
   "id": "465a6f00",
   "metadata": {},
   "outputs": [],
   "source": [
    "\n",
    "import boto3\n",
    "import sagemaker\n",
    "import pandas as pd\n",
    "import numpy as np\n",
    "import matplotlib.pyplot as plt\n",
    "import seaborn as sns\n",
    "from sagemaker import get_execution_role\n",
    "from sagemaker.amazon.amazon_estimator import image_uris\n",
    "from sagemaker.inputs import TrainingInput\n",
    "from sagemaker.estimator import Estimator\n",
    "from sagemaker.serializers import CSVSerializer\n",
    "from sagemaker.predictor import Predictor\n",
    "\n",
    "# Set up SageMaker session and role\n",
    "role = get_execution_role()\n",
    "sagemaker_session = sagemaker.Session()\n",
    "\n",
    "# Define S3 bucket and prefix for storing data\n",
    "bucket = 'your-s3-bucket-name'\n",
    "prefix = 'knn-example'\n",
    "\n",
    "# Retrieve the SageMaker KNN container image\n",
    "region = boto3.Session().region_name\n",
    "container = image_uris.retrieve(region=region, framework='knn')\n",
    "\n",
    "# Define the KNN Estimator\n",
    "knn = Estimator(\n",
    "    image_uri=container,\n",
    "    role=role,\n",
    "    instance_count=1,\n",
    "    instance_type='ml.m4.xlarge',\n",
    "    output_path=f's3://{bucket}/{prefix}/output',\n",
    "    sagemaker_session=sagemaker_session\n",
    ")\n",
    "\n",
    "# Set KNN hyperparameters\n",
    "knn.set_hyperparameters(\n",
    "    k=10,\n",
    "    sample_size=5000,\n",
    "    predictor_type='classifier',\n",
    "    feature_dim=10,  # Adjust based on actual dataset features\n",
    "    index_metric='COSINE'\n",
    ")\n",
    "\n",
    "# Define training and validation data locations\n",
    "s3_input_train = TrainingInput(s3_data=f's3://{bucket}/{prefix}/train', content_type='text/csv')\n",
    "s3_input_validation = TrainingInput(s3_data=f's3://{bucket}/{prefix}/validation', content_type='text/csv')\n",
    "\n",
    "# Train the model\n",
    "knn.fit({'train': s3_input_train, 'validation': s3_input_validation})\n"
   ]
  },
  {
   "cell_type": "markdown",
   "id": "17655c0f",
   "metadata": {},
   "source": [
    "## Deploy the Trained Model"
   ]
  },
  {
   "cell_type": "code",
   "execution_count": null,
   "id": "567eaca5",
   "metadata": {},
   "outputs": [],
   "source": [
    "\n",
    "# Deploy the trained model\n",
    "knn_predictor = knn.deploy(initial_instance_count=1, instance_type='ml.m4.xlarge')\n",
    "knn_predictor.serializer = CSVSerializer()\n"
   ]
  },
  {
   "cell_type": "markdown",
   "id": "ac823283",
   "metadata": {},
   "source": [
    "## Load Test Data and Make Predictions"
   ]
  },
  {
   "cell_type": "code",
   "execution_count": null,
   "id": "38ef1510",
   "metadata": {},
   "outputs": [],
   "source": [
    "\n",
    "# Load test data (replace with actual test data location)\n",
    "test_data = pd.read_csv('test_data.csv')\n",
    "X_test = test_data.drop(columns=['label'])\n",
    "y_test = test_data['label']\n",
    "\n",
    "# Get predictions\n",
    "predictions = knn_predictor.predict(X_test.to_numpy())\n",
    "predictions = np.array([int(float(pred)) for pred in predictions.decode('utf-8').split(',')])\n"
   ]
  },
  {
   "cell_type": "markdown",
   "id": "4d5cf642",
   "metadata": {},
   "source": [
    "## Compute Confusion Matrix and Performance Metrics"
   ]
  },
  {
   "cell_type": "code",
   "execution_count": null,
   "id": "93a047f1",
   "metadata": {},
   "outputs": [],
   "source": [
    "\n",
    "# Compute confusion matrix\n",
    "cm = pd.crosstab(y_test, predictions, rownames=['Actual'], colnames=['Predicted'])\n",
    "\n",
    "# Compute evaluation metrics\n",
    "TP = cm.loc[1, 1] if (1 in cm.index and 1 in cm.columns) else 0\n",
    "FP = cm.loc[0, 1] if (0 in cm.index and 1 in cm.columns) else 0\n",
    "TN = cm.loc[0, 0] if (0 in cm.index and 0 in cm.columns) else 0\n",
    "FN = cm.loc[1, 0] if (1 in cm.index and 0 in cm.columns) else 0\n",
    "\n",
    "accuracy = (TP + TN) / (TP + TN + FP + FN) * 100\n",
    "precision = TP / (TP + FP) * 100 if (TP + FP) > 0 else 0\n",
    "recall = TP / (TP + FN) * 100 if (TP + FN) > 0 else 0\n",
    "f1_score = 2 * (precision * recall) / (precision + recall) if (precision + recall) > 0 else 0\n",
    "specificity = TN / (TN + FP) * 100 if (TN + FP) > 0 else 0\n",
    "\n",
    "# Print metrics\n",
    "print(\"Confusion Matrix:\")\n",
    "print(cm)\n",
    "\n",
    "print(f\"\\nAccuracy: {accuracy:.2f}%\")\n",
    "print(f\"Precision: {precision:.2f}%\")\n",
    "print(f\"Recall: {recall:.2f}%\")\n",
    "print(f\"F1 Score: {f1_score:.2f}%\")\n",
    "print(f\"Specificity: {specificity:.2f}%\")\n"
   ]
  },
  {
   "cell_type": "markdown",
   "id": "f5522cea",
   "metadata": {},
   "source": [
    "## Visualize the Confusion Matrix"
   ]
  },
  {
   "cell_type": "code",
   "execution_count": null,
   "id": "d29b7067",
   "metadata": {},
   "outputs": [],
   "source": [
    "\n",
    "# Visualize confusion matrix\n",
    "plt.figure(figsize=(6,4))\n",
    "sns.heatmap(cm, annot=True, fmt='d', cmap='Blues', xticklabels=[\"Not Prof\", \"Proficient\"], yticklabels=[\"Not Prof\", \"Proficient\"])\n",
    "plt.xlabel(\"Predicted\")\n",
    "plt.ylabel(\"Actual\")\n",
    "plt.title(\"Confusion Matrix\")\n",
    "plt.show()\n"
   ]
  },
  {
   "cell_type": "markdown",
   "id": "e689c221",
   "metadata": {},
   "source": [
    "## Cleanup the Endpoint"
   ]
  },
  {
   "cell_type": "code",
   "execution_count": null,
   "id": "5499023d",
   "metadata": {},
   "outputs": [],
   "source": [
    "\n",
    "# Clean up the endpoint\n",
    "knn_predictor.delete_endpoint()\n"
   ]
  }
 ],
 "metadata": {
  "kernelspec": {
   "display_name": "Python 3 (ipykernel)",
   "language": "python",
   "name": "python3"
  },
  "language_info": {
   "codemirror_mode": {
    "name": "ipython",
    "version": 3
   },
   "file_extension": ".py",
   "mimetype": "text/x-python",
   "name": "python",
   "nbconvert_exporter": "python",
   "pygments_lexer": "ipython3",
   "version": "3.11.11"
  }
 },
 "nbformat": 4,
 "nbformat_minor": 5
}
