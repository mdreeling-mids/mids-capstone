{
 "cells": [
  {
   "cell_type": "markdown",
   "metadata": {},
   "source": [
    "# Credit risk prediction, explainability and bias detection with Amazon SageMaker"
   ]
  },
  {
   "cell_type": "markdown",
   "metadata": {},
   "source": [
    "![Credit risk explainability use case](credit_risk_prediction.png)\n",
    "\n",
    "1. [Overview](#Overview)\n",
    "1. [Prerequisites and Data](#Prerequisites-and-Data)\n",
    "    1. [Initialize SageMaker](#Initialize-SageMaker)\n",
    "    1. [Download data](#Download-data)\n",
    "    1. [Loading the data: German credit (Update) Dataset](#Loading-the-data:-German-credit-Dataset) \n",
    "    1. [Data inspection](#Data-inspection) \n",
    "    1. [Data preprocessing Model and upload to S3](#Preprocess-and-Upload-Training-Data) \n",
    "1. [Train XGBoost Model](#Train-XGBoost-Model)\n",
    "    1. [Train Model](#Train-Model)\n",
    "1. [Create SageMaker Model with Inference Pipeline](#Create-SageMaker-Model)\n",
    "1. [Amazon SageMaker Clarify](#Amazon-SageMaker-Clarify)\n",
    "    1. [Explaining Predictions](#Explaining-Predictions)\n",
    "        1. [Viewing the Explainability Report](#Viewing-the-Explainability-Report)\n",
    "        2. [Explaining individual bad credit prediction example](#Explaining-individual-prediction)\n",
    "    2. [Understanding Bias](#Bias-Detection)\n",
    "        1. [Pre-training bias metrics](#pre-training)\n",
    "        2. [Post-training bias metrics](#post-training)\n",
    "1. [Clean Up](#Clean-Up)\n",
    "1. [Additional Resources](#Additional-Resources)\n",
    "\n",
    "## 1. Overview\n",
    "Amazon SageMaker helps data scientists and developers to prepare, build, train, and deploy high-quality machine learning (ML) models quickly by bringing together a broad set of capabilities purpose-built for ML.\n",
    "\n",
    "[Amazon SageMaker Clarify](https://aws.amazon.com/sagemaker/clarify/) helps improve your machine learning models by detecting potential bias and helping explain how these models make predictions. The fairness and explainability functionality provided by SageMaker Clarify takes a step towards enabling AWS customers to build trustworthy and understandable machine learning models. \n",
    "\n",
    "Amazon SageMaker provides pre-made images for machine and deep learning frameworks for supported frameworks such as Scikit-Learn, XGBoost, TensorFlow, PyTorch, MXNet, or Chainer. These are preloaded with the corresponding framework and some additional Python packages, such as Pandas and NumPy, so you can write your own code for model training. See [here](https://docs.aws.amazon.com/sagemaker/latest/dg/algorithms-choose.html#supported-frameworks-benefits) for more information.\n",
    "\n",
    "\n",
    "[Amazon SageMaker Studio](https://aws.amazon.com/sagemaker/studio/) provides a single, web-based visual interface where you can perform all ML development activities including notebooks, experiment management, automatic model creation, debugging, and model and data drift detection.\n",
    "\n",
    "In this SageMaker Studio notebook, we highlight how you can use SageMaker to train models, create a deployable SageMaker model, and provide bias detection and explainability to analyze data and understand prediction outcomes from the model.\n",
    "This sample notebook walks you through:  \n",
    "\n",
    "1. Download and explore credit risk dataset - [South German Credit (UPDATE) Data Set](https://archive.ics.uci.edu/ml/datasets/South+German+Credit+%28UPDATE%29)\n",
    "2. Preprocessing data with sklearn on the dataset\n",
    "3. Training GBM model with XGBoost on the dataset\n",
    "4. Build an inference pipeline model (sklearn model and XGBoost model together) to preprocess input data and produce a prediction outcome per instance\n",
    "5. Hosting and scoring the single model (Optional)\n",
    "6. SageMaker Clarify job to provide Kernel SHAP values for the SageMaker model on training and test datasets.\n",
    "7. SageMaker Clarify job to provide bias metrics including pre-training bias metrics on data, \n",
    "\n",
    "![Credit risk explainability model inference](clarify_inf_pipeline_arch.jpg)"
   ]
  },
  {
   "cell_type": "markdown",
   "metadata": {},
   "source": [
    "## 2. Prerequisites and Data exploration and Feature engineering\n",
    "### Initialize SageMaker"
   ]
  },
  {
   "cell_type": "code",
   "execution_count": 1,
   "metadata": {
    "tags": []
   },
   "outputs": [
    {
     "name": "stdout",
     "output_type": "stream",
     "text": [
      "sagemaker.config INFO - Not applying SDK defaults from location: /etc/xdg/sagemaker/config.yaml\n",
      "sagemaker.config INFO - Not applying SDK defaults from location: /home/sagemaker-user/.config/sagemaker/config.yaml\n"
     ]
    }
   ],
   "source": [
    "# cell 01\n",
    "from io import StringIO\n",
    "import os\n",
    "import time\n",
    "import sys\n",
    "import IPython\n",
    "from time import gmtime, strftime\n",
    "\n",
    "import boto3\n",
    "import numpy as np\n",
    "import pandas as pd\n",
    "import urllib\n",
    "\n",
    "import sagemaker\n",
    "from sagemaker.s3 import S3Uploader\n",
    "from sagemaker.processing import ProcessingInput, ProcessingOutput\n",
    "from sagemaker.sklearn.processing import SKLearnProcessor\n",
    "from sagemaker.inputs import TrainingInput\n",
    "from sagemaker.xgboost import XGBoost\n",
    "from sagemaker.s3 import S3Downloader\n",
    "from sagemaker.s3 import S3Uploader\n",
    "from sagemaker import Session\n",
    "from sagemaker import get_execution_role\n",
    "from sagemaker.xgboost import XGBoostModel\n",
    "from sagemaker.sklearn import SKLearnModel\n",
    "from sagemaker.pipeline import PipelineModel\n",
    "\n",
    "\n",
    "session = Session()\n",
    "bucket = session.default_bucket()\n",
    "prefix = \"sagemaker/pisa-2022-prediction-model\"\n",
    "region = session.boto_region_name\n",
    "\n",
    "# Define IAM role\n",
    "role = get_execution_role()"
   ]
  },
  {
   "cell_type": "markdown",
   "metadata": {},
   "source": [
    "## 5. Amazon SageMaker Clarify\n",
    "\n",
    "Pre-requisities :\n",
    "\n",
    "1. [SageMaker Model](https://sagemaker.readthedocs.io/en/stable/api/inference/model.html) that can be deployed to a endpoint\n",
    "\n",
    "2. Input dataset\n",
    "                  \n",
    "3. SHAP Baseline\n",
    "\n",
    "Now that you have your model set up. Let's say hello to SageMaker Clarify!"
   ]
  },
  {
   "cell_type": "code",
   "execution_count": 2,
   "metadata": {
    "tags": []
   },
   "outputs": [],
   "source": [
    "# cell 25\n",
    "from sagemaker import clarify\n",
    "\n",
    "clarify_processor = clarify.SageMakerClarifyProcessor(\n",
    "    role=role, instance_count=1, instance_type=\"ml.c4.xlarge\", sagemaker_session=session\n",
    ")"
   ]
  },
  {
   "cell_type": "markdown",
   "metadata": {},
   "source": [
    "### Explaining Predictions\n",
    "There are expanding business needs and legislative regulations that require explanations of _why_ a model made the decision it did. SageMaker Clarify uses [SHAP library](https://github.com/slundberg/shap) to explain the contribution that each input feature makes to the final decision. SageMaker Clarify uses a scalable and efficient implementation of [Kernel SHAP](https://github.com/slundberg/shap#model-agnostic-example-with-kernelexplainer-explains-any-function) with an option to use spark based parallelization with multiple processing instances. Note that Kernel SHAP and hence SageMaker Clarify has a model-agnostic feature attribution approach. Any ML model that is represented as a [SageMaker model](https://sagemaker.readthedocs.io/en/stable/api/inference/model.html) can be used with Clarify for explainability. \n",
    "\n",
    "Here is more information about explainability with Clarify and SHAP:\n",
    "\n",
    "    https://docs.aws.amazon.com/sagemaker/latest/dg/clarify-model-explainability.html\n",
    "    \n",
    "    https://docs.aws.amazon.com/sagemaker/latest/dg/clarify-shapley-values.html\n",
    "    \n",
    "    https://papers.nips.cc/paper/2017/file/8a20a8621978632d76c43dfd28b67767-Paper.pdf"
   ]
  },
  {
   "cell_type": "markdown",
   "metadata": {},
   "source": [
    "### Create a baseline for SHAP"
   ]
  },
  {
   "cell_type": "markdown",
   "metadata": {},
   "source": [
    "As a contrastive explainability technique, SHAP values are calculated by evaluating the model on synthetic data generated against a baseline sample. The explanations of the same case can be different depending on the choices of this baseline sample. \n",
    "\n",
    "We are interested in explaining bad credit predictions. Hence, we would like the baseline choice to have E(x) closer to 1(belonging to the good credit class). \n",
    "\n",
    "We use the [mode](https://en.wikipedia.org/wiki/Mode_(statistics)) statistic to create the baseline. The mode is a good choice for categorical variables. We observe that the model prediction for the baseline has a high probability for the good credit class and hence it satisfies our requirement for the baseline. \n",
    "\n",
    "For more information on selecting informative vs non-informative baselines, see [SHAP Baselines for Explainability ](https://docs.aws.amazon.com/sagemaker/latest/dg/clarify-feature-attribute-shap-baselines.html)"
   ]
  },
  {
   "cell_type": "code",
   "execution_count": 3,
   "metadata": {
    "tags": []
   },
   "outputs": [
    {
     "ename": "KeyError",
     "evalue": "\"['MATH_Proficient'] not found in axis\"",
     "output_type": "error",
     "traceback": [
      "\u001b[0;31m---------------------------------------------------------------------------\u001b[0m",
      "\u001b[0;31mKeyError\u001b[0m                                  Traceback (most recent call last)",
      "Cell \u001b[0;32mIn[3], line 6\u001b[0m\n\u001b[1;32m      3\u001b[0m raw_train_df \u001b[38;5;241m=\u001b[39m pd\u001b[38;5;241m.\u001b[39mread_csv(\u001b[38;5;124m\"\u001b[39m\u001b[38;5;124mtrain.csv\u001b[39m\u001b[38;5;124m\"\u001b[39m, header\u001b[38;5;241m=\u001b[39m\u001b[38;5;241m0\u001b[39m, names\u001b[38;5;241m=\u001b[39m\u001b[38;5;28;01mNone\u001b[39;00m, sep\u001b[38;5;241m=\u001b[39m\u001b[38;5;124m\"\u001b[39m\u001b[38;5;124m,\u001b[39m\u001b[38;5;124m\"\u001b[39m)\n\u001b[1;32m      5\u001b[0m \u001b[38;5;66;03m# drop the target column\u001b[39;00m\n\u001b[0;32m----> 6\u001b[0m baseline \u001b[38;5;241m=\u001b[39m \u001b[43mraw_train_df\u001b[49m\u001b[38;5;241;43m.\u001b[39;49m\u001b[43mdrop\u001b[49m\u001b[43m(\u001b[49m\u001b[43m[\u001b[49m\u001b[38;5;124;43m\"\u001b[39;49m\u001b[38;5;124;43mMATH_Proficient\u001b[39;49m\u001b[38;5;124;43m\"\u001b[39;49m\u001b[43m]\u001b[49m\u001b[43m,\u001b[49m\u001b[43m \u001b[49m\u001b[43maxis\u001b[49m\u001b[38;5;241;43m=\u001b[39;49m\u001b[38;5;241;43m1\u001b[39;49m\u001b[43m)\u001b[49m\u001b[38;5;241m.\u001b[39mmode()\u001b[38;5;241m.\u001b[39miloc[\u001b[38;5;241m0\u001b[39m]\u001b[38;5;241m.\u001b[39mvalues\u001b[38;5;241m.\u001b[39mastype(\u001b[38;5;124m\"\u001b[39m\u001b[38;5;124mint\u001b[39m\u001b[38;5;124m\"\u001b[39m)\u001b[38;5;241m.\u001b[39mtolist()\n\u001b[1;32m      8\u001b[0m \u001b[38;5;28mprint\u001b[39m(baseline)\n",
      "File \u001b[0;32m/opt/conda/lib/python3.11/site-packages/pandas/core/frame.py:5581\u001b[0m, in \u001b[0;36mDataFrame.drop\u001b[0;34m(self, labels, axis, index, columns, level, inplace, errors)\u001b[0m\n\u001b[1;32m   5433\u001b[0m \u001b[38;5;28;01mdef\u001b[39;00m\u001b[38;5;250m \u001b[39m\u001b[38;5;21mdrop\u001b[39m(\n\u001b[1;32m   5434\u001b[0m     \u001b[38;5;28mself\u001b[39m,\n\u001b[1;32m   5435\u001b[0m     labels: IndexLabel \u001b[38;5;241m|\u001b[39m \u001b[38;5;28;01mNone\u001b[39;00m \u001b[38;5;241m=\u001b[39m \u001b[38;5;28;01mNone\u001b[39;00m,\n\u001b[0;32m   (...)\u001b[0m\n\u001b[1;32m   5442\u001b[0m     errors: IgnoreRaise \u001b[38;5;241m=\u001b[39m \u001b[38;5;124m\"\u001b[39m\u001b[38;5;124mraise\u001b[39m\u001b[38;5;124m\"\u001b[39m,\n\u001b[1;32m   5443\u001b[0m ) \u001b[38;5;241m-\u001b[39m\u001b[38;5;241m>\u001b[39m DataFrame \u001b[38;5;241m|\u001b[39m \u001b[38;5;28;01mNone\u001b[39;00m:\n\u001b[1;32m   5444\u001b[0m \u001b[38;5;250m    \u001b[39m\u001b[38;5;124;03m\"\"\"\u001b[39;00m\n\u001b[1;32m   5445\u001b[0m \u001b[38;5;124;03m    Drop specified labels from rows or columns.\u001b[39;00m\n\u001b[1;32m   5446\u001b[0m \n\u001b[0;32m   (...)\u001b[0m\n\u001b[1;32m   5579\u001b[0m \u001b[38;5;124;03m            weight  1.0     0.8\u001b[39;00m\n\u001b[1;32m   5580\u001b[0m \u001b[38;5;124;03m    \"\"\"\u001b[39;00m\n\u001b[0;32m-> 5581\u001b[0m     \u001b[38;5;28;01mreturn\u001b[39;00m \u001b[38;5;28;43msuper\u001b[39;49m\u001b[43m(\u001b[49m\u001b[43m)\u001b[49m\u001b[38;5;241;43m.\u001b[39;49m\u001b[43mdrop\u001b[49m\u001b[43m(\u001b[49m\n\u001b[1;32m   5582\u001b[0m \u001b[43m        \u001b[49m\u001b[43mlabels\u001b[49m\u001b[38;5;241;43m=\u001b[39;49m\u001b[43mlabels\u001b[49m\u001b[43m,\u001b[49m\n\u001b[1;32m   5583\u001b[0m \u001b[43m        \u001b[49m\u001b[43maxis\u001b[49m\u001b[38;5;241;43m=\u001b[39;49m\u001b[43maxis\u001b[49m\u001b[43m,\u001b[49m\n\u001b[1;32m   5584\u001b[0m \u001b[43m        \u001b[49m\u001b[43mindex\u001b[49m\u001b[38;5;241;43m=\u001b[39;49m\u001b[43mindex\u001b[49m\u001b[43m,\u001b[49m\n\u001b[1;32m   5585\u001b[0m \u001b[43m        \u001b[49m\u001b[43mcolumns\u001b[49m\u001b[38;5;241;43m=\u001b[39;49m\u001b[43mcolumns\u001b[49m\u001b[43m,\u001b[49m\n\u001b[1;32m   5586\u001b[0m \u001b[43m        \u001b[49m\u001b[43mlevel\u001b[49m\u001b[38;5;241;43m=\u001b[39;49m\u001b[43mlevel\u001b[49m\u001b[43m,\u001b[49m\n\u001b[1;32m   5587\u001b[0m \u001b[43m        \u001b[49m\u001b[43minplace\u001b[49m\u001b[38;5;241;43m=\u001b[39;49m\u001b[43minplace\u001b[49m\u001b[43m,\u001b[49m\n\u001b[1;32m   5588\u001b[0m \u001b[43m        \u001b[49m\u001b[43merrors\u001b[49m\u001b[38;5;241;43m=\u001b[39;49m\u001b[43merrors\u001b[49m\u001b[43m,\u001b[49m\n\u001b[1;32m   5589\u001b[0m \u001b[43m    \u001b[49m\u001b[43m)\u001b[49m\n",
      "File \u001b[0;32m/opt/conda/lib/python3.11/site-packages/pandas/core/generic.py:4788\u001b[0m, in \u001b[0;36mNDFrame.drop\u001b[0;34m(self, labels, axis, index, columns, level, inplace, errors)\u001b[0m\n\u001b[1;32m   4786\u001b[0m \u001b[38;5;28;01mfor\u001b[39;00m axis, labels \u001b[38;5;129;01min\u001b[39;00m axes\u001b[38;5;241m.\u001b[39mitems():\n\u001b[1;32m   4787\u001b[0m     \u001b[38;5;28;01mif\u001b[39;00m labels \u001b[38;5;129;01mis\u001b[39;00m \u001b[38;5;129;01mnot\u001b[39;00m \u001b[38;5;28;01mNone\u001b[39;00m:\n\u001b[0;32m-> 4788\u001b[0m         obj \u001b[38;5;241m=\u001b[39m \u001b[43mobj\u001b[49m\u001b[38;5;241;43m.\u001b[39;49m\u001b[43m_drop_axis\u001b[49m\u001b[43m(\u001b[49m\u001b[43mlabels\u001b[49m\u001b[43m,\u001b[49m\u001b[43m \u001b[49m\u001b[43maxis\u001b[49m\u001b[43m,\u001b[49m\u001b[43m \u001b[49m\u001b[43mlevel\u001b[49m\u001b[38;5;241;43m=\u001b[39;49m\u001b[43mlevel\u001b[49m\u001b[43m,\u001b[49m\u001b[43m \u001b[49m\u001b[43merrors\u001b[49m\u001b[38;5;241;43m=\u001b[39;49m\u001b[43merrors\u001b[49m\u001b[43m)\u001b[49m\n\u001b[1;32m   4790\u001b[0m \u001b[38;5;28;01mif\u001b[39;00m inplace:\n\u001b[1;32m   4791\u001b[0m     \u001b[38;5;28mself\u001b[39m\u001b[38;5;241m.\u001b[39m_update_inplace(obj)\n",
      "File \u001b[0;32m/opt/conda/lib/python3.11/site-packages/pandas/core/generic.py:4830\u001b[0m, in \u001b[0;36mNDFrame._drop_axis\u001b[0;34m(self, labels, axis, level, errors, only_slice)\u001b[0m\n\u001b[1;32m   4828\u001b[0m         new_axis \u001b[38;5;241m=\u001b[39m axis\u001b[38;5;241m.\u001b[39mdrop(labels, level\u001b[38;5;241m=\u001b[39mlevel, errors\u001b[38;5;241m=\u001b[39merrors)\n\u001b[1;32m   4829\u001b[0m     \u001b[38;5;28;01melse\u001b[39;00m:\n\u001b[0;32m-> 4830\u001b[0m         new_axis \u001b[38;5;241m=\u001b[39m \u001b[43maxis\u001b[49m\u001b[38;5;241;43m.\u001b[39;49m\u001b[43mdrop\u001b[49m\u001b[43m(\u001b[49m\u001b[43mlabels\u001b[49m\u001b[43m,\u001b[49m\u001b[43m \u001b[49m\u001b[43merrors\u001b[49m\u001b[38;5;241;43m=\u001b[39;49m\u001b[43merrors\u001b[49m\u001b[43m)\u001b[49m\n\u001b[1;32m   4831\u001b[0m     indexer \u001b[38;5;241m=\u001b[39m axis\u001b[38;5;241m.\u001b[39mget_indexer(new_axis)\n\u001b[1;32m   4833\u001b[0m \u001b[38;5;66;03m# Case for non-unique axis\u001b[39;00m\n\u001b[1;32m   4834\u001b[0m \u001b[38;5;28;01melse\u001b[39;00m:\n",
      "File \u001b[0;32m/opt/conda/lib/python3.11/site-packages/pandas/core/indexes/base.py:7070\u001b[0m, in \u001b[0;36mIndex.drop\u001b[0;34m(self, labels, errors)\u001b[0m\n\u001b[1;32m   7068\u001b[0m \u001b[38;5;28;01mif\u001b[39;00m mask\u001b[38;5;241m.\u001b[39many():\n\u001b[1;32m   7069\u001b[0m     \u001b[38;5;28;01mif\u001b[39;00m errors \u001b[38;5;241m!=\u001b[39m \u001b[38;5;124m\"\u001b[39m\u001b[38;5;124mignore\u001b[39m\u001b[38;5;124m\"\u001b[39m:\n\u001b[0;32m-> 7070\u001b[0m         \u001b[38;5;28;01mraise\u001b[39;00m \u001b[38;5;167;01mKeyError\u001b[39;00m(\u001b[38;5;124mf\u001b[39m\u001b[38;5;124m\"\u001b[39m\u001b[38;5;132;01m{\u001b[39;00mlabels[mask]\u001b[38;5;241m.\u001b[39mtolist()\u001b[38;5;132;01m}\u001b[39;00m\u001b[38;5;124m not found in axis\u001b[39m\u001b[38;5;124m\"\u001b[39m)\n\u001b[1;32m   7071\u001b[0m     indexer \u001b[38;5;241m=\u001b[39m indexer[\u001b[38;5;241m~\u001b[39mmask]\n\u001b[1;32m   7072\u001b[0m \u001b[38;5;28;01mreturn\u001b[39;00m \u001b[38;5;28mself\u001b[39m\u001b[38;5;241m.\u001b[39mdelete(indexer)\n",
      "\u001b[0;31mKeyError\u001b[0m: \"['MATH_Proficient'] not found in axis\""
     ]
    }
   ],
   "source": [
    "# cell 26\n",
    "# load the raw training data in a data frame\n",
    "raw_train_df = pd.read_csv(\"train.csv\", header=0, names=None, sep=\",\")"
   ]
  },
  {
   "cell_type": "code",
   "execution_count": 5,
   "metadata": {},
   "outputs": [
    {
     "name": "stdout",
     "output_type": "stream",
     "text": [
      "[49900035, 800001, 1, 4, 1, 0, 0, 0, 0, 0, 1, 3, 5, 5, 5, 1, 1, 1, 3, 8, 10, 8, 2, -2, 2, 0, 0, 9, 7, 6, 4, 1, 0, 1, 10, 0, 0, 0, 16, 17, 25, 2, 1, 4, 0, 2, 2, 30, 1, 2, 10, 1, 4, 1, 1, 4, 1, 8, 2, 2, 4, 1, 0, 0, 0, 0, 0, 0, 1, 2, 2, 1, 2, 1, 6, 6, 2, 5, 3, 2, 3, 3, 1, 1, 2, 3, 1, 4, 1, 4, 2, 2, 1, 2, 3, 1, 3, 10, 20, 0, 0, -1, 1, 0, 0, 0, 0, 0, 0, 0, 0, 0, -1, 2, 0, 1, 0, 0, 0, 0, 0, 0, 0, 0, 2, 0, 0, 0, -1, 0, 0, 0, 0, 2, 2, -1, -1, 0, 0, 0, 0, -1, 1, -2, -2, 0, 0, 0, 0, 0, 0, 0, 0, -2, -2, -1, 0, 0, 0, -2, 0, 2, 0, 1, 0, -2, 0, 1, 4, 0, -1, 0, 0, 0, 0, 0, 0, 0, 0, 0, 10, 3, 0, 0, 0, 0, 0, 0, 1, 1, 1, 2, 2, 1, 1, 45, 0, 0, 0, 0, 0, 0, 0, 0, 0, 1, 4, 4, 4, 1, 1, 4, 4, 3, 3, 1, 2, 1, 1, 100, 0, 1, 2, 1, 1, 100, 23, 1, 0, 0, 0, 0, 3, 10, 100, 10, 100, 0, 5, 0, 0, 0, 1, 1, 1, 1, 1, 1, 1, 1, 1, 1, 1, 1, 3, 1, 1, 0, 3, 0, 0, 1, 2, 2, 4, 5, 2, 1, 4, 5, 3, 3, 5, 1, 1, 1, 1, 1, 1, 1, 1, 2, 2, 1, 2, 1, 2, 2, 1, 1, 1, 1, 1, 1, 1, 1, 1, 11, 2, 1, 1, 1, 1, 1, 1, 1, 1, 1, 1, 1, 1, 1, 2, 0, -1, -1, 0, 0, 1, -1, 1, 2, -1, -1, -1, -3, -2, 2, 2, 2, 1, 0, -2, 0, 0, 0, 0, 0, 0, 0, 0, 0, 0, 0, 0, 0, 0, 0, 0, 0, 0, 0, 0, 0, 0, 0, 0, 0, 0, 0, 0, 0, 0, 0, 0, 0, 0, 0, 0, 0, 0, 0, 0, 0, 0, 0, 0, 0, 0, 0, 0, 0, 0, 0, 0, 0, 0, 0, 0, 0, 0, 0, 0, 0, 0, 0, 0, 0, 0, 0, 0, 0, 0, 0, 0, 0, 0, 0, 0, 0, 0, 0, 0, 0, 0, 0, 0, 0, 0, 0, 0, 0, 0, 0, 0, 0, 0, 0, 0, 0, 0, 0, 0, 0, 0, 0, 0, 0, 0, 0, 0, 0, 0, 0, 0, 0, 0, 0, 0, 0, 0, 0, 0, 0, 0, 0, 0, 0, 0, 0, 0, 0, 0, 0, 0, 0, 0, 0, 0, 0, 0, 0, 0, 0, 0, 0, 0, 0, 0, 0, 0, 0, 0, 0, 0, 0, 0, 0, 0, 0, 0, 0, 0, 0, 0, 0, 0, 0, 0, 0, 0, 0, 0, 0, 0, 0, 0, 0, 0, 0, 0, 0, 0, 0, 0, 0, 0, 0, 0, 0, 0, 0, 0, 0, 0, 0, 0, 0, 0, 0, 0, 0, 0, 0, 0, 0, 0, 0, 0, 0, 0, 0, 0, 0, 0, 0, 0, 0, 0, 0, 0, 0, 0, 0, 0, 0, 0, 0, 0, 0, 0, 0, 0, 0, 0, 0, 0, 0]\n"
     ]
    }
   ],
   "source": [
    "# drop the target column\n",
    "# Drop the first column (MATH_Proficient) when CSV has no headers\n",
    "baseline = raw_train_df.drop(raw_train_df.columns[0], axis=1).mode().iloc[0].values.astype(\"int\").tolist()\n",
    "print(baseline)"
   ]
  },
  {
   "cell_type": "code",
   "execution_count": 28,
   "metadata": {},
   "outputs": [],
   "source": [
    "test_data = raw_train_df.drop(raw_train_df.columns[0], axis=1).sample(frac=0.1)\n",
    "test_uo_filename = \"test_unordered.csv\"\n",
    "test_data.to_csv(test_uo_filename, index=False, header=True, columns=None, sep=\",\")\n",
    "# Save train dataset with MATH_Proficient as the first column\n",
    "cols = list(test_data.columns)\n",
    "cols = [cols[2]] + cols[:2] + cols[3:]  # Move 3rd column to the front\n",
    "test_filename = \"test.csv\"\n",
    "test_data[cols].to_csv(test_filename, index=False, header=False)"
   ]
  },
  {
   "cell_type": "code",
   "execution_count": 33,
   "metadata": {},
   "outputs": [
    {
     "data": {
      "text/plain": [
       "(41430, 568)"
      ]
     },
     "execution_count": 33,
     "metadata": {},
     "output_type": "execute_result"
    }
   ],
   "source": [
    "test_data[cols].head\n",
    "test_data[cols].shape"
   ]
  },
  {
   "cell_type": "code",
   "execution_count": 29,
   "metadata": {},
   "outputs": [
    {
     "name": "stdout",
     "output_type": "stream",
     "text": [
      "s3://sagemaker-us-west-2-986030204467/sagemaker/pisa-2022-prediction-model/data/test/test.csv\n"
     ]
    }
   ],
   "source": [
    "test_raw = S3Uploader.upload(test_filename, \"s3://{}/{}/data/test\".format(bucket, prefix))\n",
    "print(test_raw)"
   ]
  },
  {
   "cell_type": "code",
   "execution_count": 30,
   "metadata": {},
   "outputs": [
    {
     "data": {
      "text/plain": [
       "<bound method NDFrame.head of         0  21400051  21407678  1.0  3.0  3.0.1  0.1  0.2  1  0.3  ...  0.238  \\\n",
       "0       0  18800072  18804079  1.0  5.0    2.0    0    1  0    0  ...      0   \n",
       "1       1  45800120  45809473  1.0  5.0    1.0    0    0  1    0  ...      0   \n",
       "2       1  12400760  12413119  1.0  2.0    1.0    0    1  0    0  ...      0   \n",
       "3       0  32000023  32002783  NaN  NaN    NaN    0    0  0    0  ...      0   \n",
       "4       0  60800039  60806443  1.0  6.0    1.0    0    1  0    0  ...      0   \n",
       "...    ..       ...       ...  ...  ...    ...  ...  ... ..  ...  ...    ...   \n",
       "414293  0  40000040  40000237  1.0  6.0    1.0    0    0  1    0  ...      0   \n",
       "414294  1  25000103  25003470  1.0  4.0    1.0    0    0  0    1  ...      0   \n",
       "414295  0  11600057  11605138  1.0  4.0    4.0    0    0  1    0  ...      0   \n",
       "414296  1  60800141  60800538  NaN  NaN    NaN    0    0  0    0  ...      0   \n",
       "414297  0    800145    804599  NaN  NaN    NaN    0    0  0    0  ...      0   \n",
       "\n",
       "        0.239  0.240  0.241  0.242  0.243  0.244  0.245  0.246  0.247  \n",
       "0           0      0      0      0      0      0      0      0      0  \n",
       "1           0      0      0      0      0      0      0      0      0  \n",
       "2           0      0      0      0      0      0      0      0      0  \n",
       "3           0      0      0      0      0      0      0      0      0  \n",
       "4           0      0      0      0      0      0      0      0      0  \n",
       "...       ...    ...    ...    ...    ...    ...    ...    ...    ...  \n",
       "414293      0      0      0      0      0      0      0      0      0  \n",
       "414294      0      0      0      0      0      0      0      0      0  \n",
       "414295      0      0      0      0      0      0      0      0      0  \n",
       "414296      0      0      0      0      0      0      0      0      0  \n",
       "414297      0      0      0      0      0      0      0      0      0  \n",
       "\n",
       "[414298 rows x 569 columns]>"
      ]
     },
     "execution_count": 30,
     "metadata": {},
     "output_type": "execute_result"
    }
   ],
   "source": [
    "raw_train_df.head"
   ]
  },
  {
   "cell_type": "markdown",
   "metadata": {},
   "source": [
    "# Find best model from Hyper Parameter Tuning Job"
   ]
  },
  {
   "cell_type": "code",
   "execution_count": 8,
   "metadata": {},
   "outputs": [
    {
     "name": "stdout",
     "output_type": "stream",
     "text": [
      "Best model: xgboost-250217-0415-003-45af3f90\n"
     ]
    }
   ],
   "source": [
    "sm_client = boto3.client('sagemaker')\n",
    "\n",
    "# Replace with your tuning job name\n",
    "tuning_job_name = 'xgboost-250217-0415'\n",
    "\n",
    "# Get the best model from the tuning job\n",
    "best_training_job = sm_client.describe_hyper_parameter_tuning_job(HyperParameterTuningJobName=tuning_job_name)['BestTrainingJob']\n",
    "model_name = best_training_job['TrainingJobName']\n",
    "\n",
    "print(f\"Best model: {model_name}\")"
   ]
  },
  {
   "cell_type": "code",
   "execution_count": 43,
   "metadata": {},
   "outputs": [
    {
     "name": "stdout",
     "output_type": "stream",
     "text": [
      "\n",
      "2025-02-17 04:29:54 Starting - Preparing the instances for training\n",
      "2025-02-17 04:29:54 Downloading - Downloading the training image\n",
      "2025-02-17 04:29:54 Training - Training image download completed. Training in progress.\n",
      "2025-02-17 04:29:54 Uploading - Uploading generated training model\n",
      "2025-02-17 04:29:54 Completed - Resource released due to keep alive period expiry"
     ]
    },
    {
     "name": "stderr",
     "output_type": "stream",
     "text": [
      "INFO:sagemaker:Creating model with name: xgboost-2025-02-17-06-15-59-294\n"
     ]
    },
    {
     "name": "stdout",
     "output_type": "stream",
     "text": [
      "\n"
     ]
    },
    {
     "name": "stderr",
     "output_type": "stream",
     "text": [
      "INFO:sagemaker:Creating endpoint-config with name xgboost-250217-0415-003-45af3f90\n",
      "INFO:sagemaker:Creating endpoint with name xgboost-250217-0415-003-45af3f90\n"
     ]
    },
    {
     "name": "stdout",
     "output_type": "stream",
     "text": [
      "-------!"
     ]
    }
   ],
   "source": [
    "from sagemaker.tuner import HyperparameterTuner\n",
    "\n",
    "tuner = HyperparameterTuner.attach('xgboost-250217-0415') \n",
    "#  Deploy the best trained or user specified model to an Amazon SageMaker endpoint\n",
    "tuner_predictor = tuner.deploy(initial_instance_count=1,\n",
    "                           instance_type='ml.m4.xlarge')"
   ]
  },
  {
   "cell_type": "code",
   "execution_count": 45,
   "metadata": {
    "tags": []
   },
   "outputs": [
    {
     "name": "stdout",
     "output_type": "stream",
     "text": [
      "[['0.6958543062210083']]\n"
     ]
    }
   ],
   "source": [
    "# cell 27\n",
    "# check baseline prediction E[f(x)]\n",
    "predictor = sagemaker.predictor.Predictor(\n",
    "    tuner_predictor.endpoint_name,\n",
    "    session,\n",
    "    serializer=sagemaker.serializers.CSVSerializer(),\n",
    "    deserializer=sagemaker.deserializers.CSVDeserializer(),\n",
    ")\n",
    "\n",
    "pred_baseline = predictor.predict(baseline)\n",
    "print(pred_baseline)"
   ]
  },
  {
   "cell_type": "markdown",
   "metadata": {},
   "source": [
    "### Setup configurations for Clarify"
   ]
  },
  {
   "cell_type": "markdown",
   "metadata": {},
   "source": [
    "Next, setup some more configurations to start the explainability analysis by Clarify. We need to set up the following:\n",
    "  1. **SHAPConfig**: to create the baseline. In this example, the mean_abs is the mean of absolute SHAP values for all instances, specified as the baseline \n",
    "  1. **DataConfig**: to provide some basic information about data I/O to SageMaker Clarify. We specify where to find the input dataset, where to store the output, the header names, and the dataset type.\n",
    "  1. **ModelConfig**: to specify information about the trained model here we re-use the model name created earlier. \n",
    "  \n",
    "  Note: To avoid additional traffic to your production models, SageMaker Clarify sets up and tears down a ephemeral endpoint while processing. ModelConfig specifies your preferred instance type and instance count used to run your model on during Clarify's processing.\n",
    "  \n",
    "To know more about what these configurations mean for Clarify, check out the documentation here: https://docs.aws.amazon.com/sagemaker/latest/dg/clarify-configure-processing-jobs.html\n",
    "\n",
    "2 × 560 feature = 1120\n",
    "Add 2000 2000 as a baseline → 2000 + 1120 = 3120\n",
    "2000+1120=3120"
   ]
  },
  {
   "cell_type": "code",
   "execution_count": 35,
   "metadata": {
    "tags": []
   },
   "outputs": [],
   "source": [
    "# cell 28\n",
    "shap_config = clarify.SHAPConfig(\n",
    "    baseline=[baseline],\n",
    "    num_samples=3120,  # num_samples are permutations from your features, so should be large enough as compared to number of input features, for example, 2k + 2* num_features\n",
    "    agg_method=\"mean_abs\",\n",
    "    use_logit=True,\n",
    ")  # we want the shap values to have log-odds units so that the equation 'shap values + expected probability =  predicted probability' for each instance record )"
   ]
  },
  {
   "cell_type": "code",
   "execution_count": 36,
   "metadata": {},
   "outputs": [],
   "source": [
    "test_columns = [\n",
    "    \"CNTSCHID\", \"CNTSTUID\", \"SISCO\", \"ST347Q01JA\", \"ST347Q02JA\", \"ST349Q01JA_0\", \"ST349Q01JA_1\", \"ST349Q01JA_2\", \"ST349Q01JA_3\", \"ST349Q01JA_4\", \"ST350Q01JA\", \"ST356Q01JA\", \"ST322Q01JA\", \"ST322Q02JA\", \"ST322Q03JA\", \"ST322Q04JA\", \"ST322Q06JA\", \"ST322Q07JA\", \"DURECEC\", \"EFFORT1\", \"EFFORT2\", \"ST259Q01JA\",\n",
    "    \"WB164Q01HA\", \"HOMEPOS\", \"ST004D01T\", \"GRADE\", \"REPEAT\", \"EXPECEDU\", \"ICTAVSCH\", \"ICTAVHOM\", \"ICTDISTR\", \"IMMIG\", \"TARDYSD\", \"ST226Q01JA\", \"ST016Q01NA\", \"MISSSC\", \"Option_UH\", \"OECD\", \"PAREDINT\", \"BMMJ1\", \"BFMJ2\", \"WB163Q06HA\",\n",
    "    \"WB163Q07HA\", \"ST230Q01JA\", \"SKIPPING\", \"IC180Q01JA\", \"IC180Q08JA\", \"ST059Q02JA\", \"ST296Q04JA\", \"WB176Q01HA\", \"STUDYHMW\", \"IC184Q01JA\", \"IC184Q02JA\", \"IC184Q03JA\", \"IC184Q04JA\", \"ST059Q01TA\", \"ST296Q01JA\", \"ST272Q01JA\", \"ST268Q01JA\", \"ST268Q04JA\", \"ST268Q07JA\", \"ST293Q04JA\",\n",
    "    \"ST297Q01JA\", \"ST297Q03JA\", \"ST297Q05JA\", \"ST297Q06JA\", \"ST297Q07JA\", \"ST297Q09JA\", \"WB165Q01HA\", \"WB166Q01HA\", \"WB166Q02HA\", \"WB166Q03HA\", \"WB166Q04HA\", \"ST258Q01JA\", \"ST294Q01JA\", \"ST295Q01JA\", \"WB150Q01HA\", \"WB156Q01HA\", \"WB158Q01HA\", \"WB160Q01HA\", \"WB161Q01HA\", \"WB171Q01HA\",\n",
    "    \"WB171Q02HA\", \"WB171Q03HA\", \"WB171Q04HA\", \"WB172Q01HA\", \"WB173Q01HA\", \"WB173Q02HA\", \"WB173Q03HA\", \"WB173Q04HA\", \"WB177Q01HA\", \"WB177Q02HA\", \"WB177Q03HA\", \"WB177Q04HA\", \"WB032Q01NA\", \"WB032Q02NA\", \"WB031Q01NA\", \"EXERPRAC\", \"STUBMI\", \"RELATST\", \"BELONG\", \"BULLIED\",\n",
    "    \"FEELSAFE\", \"SCHRISK\", \"PERSEVAGR\", \"CURIOAGR\", \"COOPAGR\", \"EMPATAGR\", \"ASSERAGR\", \"STRESAGR\", \"EMOCOAGR\", \"GROSAGR\", \"INFOSEEK\", \"FAMSUP\", \"DISCLIM\", \"TEACHSUP\", \"COGACRCO\", \"COGACMCO\", \"EXPOFA\", \"EXPO21ST\", \"MATHEFF\", \"MATHEF21\",\n",
    "    \"FAMCON\", \"ANXMAT\", \"MATHPERS\", \"CREATEFF\", \"CREATSCH\", \"CREATFAM\", \"CREATAS\", \"CREATOOS\", \"CREATOP\", \"OPENART\", \"IMAGINE\", \"SCHSUST\", \"LEARRES\", \"PROBSELF\", \"FAMSUPSL\", \"FEELLAH\", \"SDLEFF\", \"ICTRES\", \"ESCS\", \"FLSCHOOL\",\n",
    "    \"FLMULTSB\", \"FLFAMILY\", \"ACCESSFP\", \"FLCONFIN\", \"FLCONICT\", \"ACCESSFA\", \"ATTCONFM\", \"FRINFLFM\", \"ICTSCH\", \"ICTHOME\", \"ICTQUAL\", \"ICTSUBJ\", \"ICTENQ\", \"ICTFEED\", \"ICTOUT\", \"ICTWKDY\", \"ICTWKEND\", \"ICTREG\", \"ICTINFO\", \"ICTEFFIC\",\n",
    "    \"BODYIMA\", \"SOCONPA\", \"LIFESAT\", \"PSYCHSYM\", \"SOCCON\", \"EXPWB\", \"CURSUPP\", \"PQMIMP\", \"PQMCAR\", \"PARINVOL\", \"PQSCHOOL\", \"PASCHPOL\", \"ATTIMMP\", \"CREATHME\", \"CREATACT\", \"CREATOPN\", \"CREATOR\", \"WORKPAY\", \"WORKHOME\", \"SC001Q01TA\",\n",
    "    \"SC211Q01JA\", \"SC211Q02JA\", \"SC211Q03JA\", \"SC211Q04JA\", \"SC211Q05JA\", \"SC211Q06JA\", \"SC209Q04JA\", \"SC209Q05JA\", \"SC209Q06JA\", \"SC037Q11JA\", \"SC183Q02JA\", \"SC183Q03JA\", \"SC183Q04JA\", \"SC175Q01JA\", \"SC177Q01JA_1\", \"SC177Q01JA_2\", \"SC177Q01JA_3\", \"SC177Q02JA_1\", \"SC177Q02JA_2\", \"SC177Q02JA_3\",\n",
    "    \"SC177Q03JA_1\", \"SC177Q03JA_2\", \"SC177Q03JA_3\", \"SC188Q01JA\", \"SC188Q02JA\", \"SC188Q03JA\", \"SC188Q04JA\", \"SC188Q05JA\", \"SC188Q06JA\", \"SC188Q07JA\", \"SC188Q08JA\", \"SC188Q09JA\", \"SC188Q10JA\", \"SC188Q11JA\", \"SC198Q01JA\", \"SC198Q02JA\", \"SC198Q03JA\", \"SC178Q01JA\", \"SC178Q02JA\", \"SC180Q01JA\",\n",
    "    \"SC189Q02WA\", \"SC189Q03WA\", \"SC189Q04WA\", \"SMRATIO\", \"MCLSIZE\", \"MACTIV\", \"MATHEXC_0\", \"MATHEXC_1\", \"MATHEXC_2\", \"MATHEXC_3\", \"ABGMATH\", \"SC064Q05WA\", \"SC064Q06WA\", \"SC064Q01TA\", \"SC064Q02TA\", \"SC064Q04NA\", \"SC064Q03TA\", \"SC064Q07WA\", \"SC213Q01JA\", \"SC213Q02JA\",\n",
    "    \"SC037Q01TA\", \"SC037Q02TA\", \"SC037Q03TA\", \"SC037Q04TA\", \"SC037Q05NA\", \"SC037Q06NA\", \"SC037Q07TA\", \"SC037Q09TA\", \"SC200Q01JA\", \"SC200Q02JA\", \"SC200Q03JA\", \"SC200Q04JA\", \"SC224Q01JA\", \"RATCMP1\", \"RATCMP2\", \"RATTAB\", \"SCHSEL\", \"SCHLTYPE_1\", \"SCHLTYPE_2\", \"SCHLTYPE_3\",\n",
    "    \"SC034Q01NA\", \"SC034Q02NA\", \"SC034Q03TA\", \"SC034Q04TA\", \"SC195Q01JA\", \"SC195Q02JA\", \"SC195Q03JA\", \"SC195Q04JA\", \"SC042Q01TA\", \"SC042Q02TA\", \"SC214Q01JA\", \"SC214Q02JA\", \"SC214Q03JA\", \"SC215Q01JA\", \"SC215Q02JA\", \"SC215Q03JA\", \"SC215Q04JA\", \"SC215Q05JA\", \"SC215Q06JA\", \"SC215Q07JA\",\n",
    "    \"SC215Q08JA\", \"SC216Q06JA\", \"SC216Q07JA\", \"SC216Q08JA\", \"SC216Q09JA\", \"SC217Q01JA\", \"SC217Q02JA\", \"SC217Q03JA\", \"SC217Q04JA\", \"SC217Q05JA\", \"SC217Q06JA\", \"SC217Q07JA\", \"SC217Q08JA\", \"SC217Q10JA\", \"SC218Q01JA\", \"SC219Q01JA\", \"SC220Q01JA\", \"SC221Q01JA\", \"SC221Q02JA\", \"SC221Q03JA\",\n",
    "    \"SC221Q04JA\", \"SCSUPRTED\", \"SCSUPRT\", \"SC212Q01JA\", \"SC212Q02JA\", \"SC212Q03JA\", \"SC037Q08TA\", \"SC032Q01TA\", \"SC032Q02TA\", \"SC032Q03TA\", \"SC032Q04TA\", \"SCHAUTO\", \"TCHPART\", \"EDULEAD\", \"INSTLEAD\", \"ENCOURPG\", \"DIGDVPOL\", \"TEAFDBK\", \"MTTRAIN\", \"DMCVIEWS\",\n",
    "    \"NEGSCLIM\", \"STAFFSHORT\", \"EDUSHORT\", \"STUBEHA\", \"TEACHBEHA\", \"STDTEST\", \"TDTEST\", \"ALLACTIV\", \"BCREATSC\", \"CREENVSC\", \"ACTCRESC\", \"OPENCUL\", \"PROBSCRI\", \"SCPREPBP\", \"SCPREPAP\", \"DIGPREP\", \"LANGN_105\", \"LANGN_108\", \"LANGN_112\", \"LANGN_113\",\n",
    "    \"LANGN_118\", \"LANGN_121\", \"LANGN_130\", \"LANGN_133\", \"LANGN_137\", \"LANGN_140\", \"LANGN_147\", \"LANGN_148\", \"LANGN_150\", \"LANGN_154\", \"LANGN_156\", \"LANGN_160\", \"LANGN_170\", \"LANGN_195\", \"LANGN_200\", \"LANGN_202\", \"LANGN_204\", \"LANGN_232\", \"LANGN_237\", \"LANGN_244\",\n",
    "    \"LANGN_246\", \"LANGN_254\", \"LANGN_258\", \"LANGN_263\", \"LANGN_264\", \"LANGN_266\", \"LANGN_272\", \"LANGN_273\", \"LANGN_275\", \"LANGN_286\", \"LANGN_301\", \"LANGN_313\", \"LANGN_316\", \"LANGN_317\", \"LANGN_322\", \"LANGN_325\", \"LANGN_327\", \"LANGN_329\", \"LANGN_338\", \"LANGN_340\",\n",
    "    \"LANGN_344\", \"LANGN_351\", \"LANGN_358\", \"LANGN_363\", \"LANGN_369\", \"LANGN_371\", \"LANGN_375\", \"LANGN_379\", \"LANGN_381\", \"LANGN_382\", \"LANGN_383\", \"LANGN_404\", \"LANGN_409\", \"LANGN_415\", \"LANGN_420\", \"LANGN_422\", \"LANGN_428\", \"LANGN_434\", \"LANGN_442\", \"LANGN_449\",\n",
    "    \"LANGN_451\", \"LANGN_463\", \"LANGN_465\", \"LANGN_467\", \"LANGN_471\", \"LANGN_472\", \"LANGN_474\", \"LANGN_492\", \"LANGN_493\", \"LANGN_494\", \"LANGN_495\", \"LANGN_496\", \"LANGN_500\", \"LANGN_503\", \"LANGN_514\", \"LANGN_517\", \"LANGN_520\", \"LANGN_523\", \"LANGN_527\", \"LANGN_529\",\n",
    "    \"LANGN_531\", \"LANGN_540\", \"LANGN_547\", \"LANGN_555\", \"LANGN_561\", \"LANGN_562\", \"LANGN_563\", \"LANGN_565\", \"LANGN_566\", \"LANGN_567\", \"LANGN_600\", \"LANGN_601\", \"LANGN_602\", \"LANGN_605\", \"LANGN_606\", \"LANGN_607\", \"LANGN_608\", \"LANGN_611\", \"LANGN_614\", \"LANGN_615\",\n",
    "    \"LANGN_616\", \"LANGN_618\", \"LANGN_619\", \"LANGN_621\", \"LANGN_622\", \"LANGN_623\", \"LANGN_624\", \"LANGN_625\", \"LANGN_626\", \"LANGN_627\", \"LANGN_628\", \"LANGN_630\", \"LANGN_631\", \"LANGN_634\", \"LANGN_635\", \"LANGN_639\", \"LANGN_640\", \"LANGN_641\", \"LANGN_642\", \"LANGN_648\",\n",
    "    \"LANGN_650\", \"LANGN_661\", \"LANGN_662\", \"LANGN_663\", \"LANGN_665\", \"LANGN_666\", \"LANGN_667\", \"LANGN_668\", \"LANGN_669\", \"LANGN_670\", \"LANGN_673\", \"LANGN_674\", \"LANGN_675\", \"LANGN_676\", \"LANGN_677\", \"LANGN_678\", \"LANGN_800\", \"LANGN_801\", \"LANGN_802\", \"LANGN_804\",\n",
    "    \"LANGN_805\", \"LANGN_806\", \"LANGN_807\", \"LANGN_808\", \"LANGN_809\", \"LANGN_810\", \"LANGN_811\", \"LANGN_812\", \"LANGN_813\", \"LANGN_814\", \"LANGN_815\", \"LANGN_816\", \"LANGN_817\", \"LANGN_818\", \"LANGN_819\", \"LANGN_821\", \"LANGN_823\", \"LANGN_824\", \"LANGN_825\", \"LANGN_826\",\n",
    "    \"LANGN_827\", \"LANGN_828\", \"LANGN_829\", \"LANGN_831\", \"LANGN_832\", \"LANGN_833\", \"LANGN_836\", \"LANGN_837\", \"LANGN_838\", \"LANGN_839\", \"LANGN_840\", \"LANGN_841\", \"LANGN_842\", \"LANGN_843\", \"LANGN_844\", \"LANGN_845\", \"LANGN_846\", \"LANGN_849\", \"LANGN_850\", \"LANGN_851\",\n",
    "    \"LANGN_852\", \"LANGN_854\", \"LANGN_855\", \"LANGN_857\", \"LANGN_859\", \"LANGN_860\", \"LANGN_861\", \"LANGN_865\", \"LANGN_866\", \"LANGN_868\", \"LANGN_870\", \"LANGN_872\", \"LANGN_873\", \"LANGN_877\", \"LANGN_879\", \"LANGN_881\", \"LANGN_885\", \"LANGN_890\", \"LANGN_892\", \"LANGN_895\",\n",
    "    \"LANGN_896\", \"LANGN_897\", \"LANGN_898\", \"LANGN_899\", \"LANGN_900\", \"LANGN_901\", \"LANGN_902\", \"LANGN_903\", \"LANGN_904\", \"LANGN_905\", \"LANGN_906\", \"LANGN_907\", \"LANGN_908\", \"LANGN_909\", \"LANGN_910\", \"LANGN_911\", \"LANGN_912\", \"LANGN_913\", \"LANGN_914\", \"LANGN_916\",\n",
    "    \"LANGN_917\", \"LANGN_918\", \"LANGN_919\", \"LANGN_920\", \"LANGN_921\", \"LANGN_922\"\n",
    "]"
   ]
  },
  {
   "cell_type": "code",
   "execution_count": 37,
   "metadata": {
    "tags": []
   },
   "outputs": [],
   "source": [
    "# cell 29\n",
    "explainability_report_prefix = \"{}/clarify-explainability\".format(prefix)\n",
    "explainability_output_path = \"s3://{}/{}\".format(bucket, explainability_report_prefix)\n",
    "\n",
    "explainability_data_config = clarify.DataConfig(\n",
    "    s3_data_input_path=test_raw,\n",
    "    s3_output_path=explainability_output_path,\n",
    "    # label='credit_risk', # target column is not present in the test dataset\n",
    "    headers=test_columns,\n",
    "    dataset_type=\"text/csv\",\n",
    ")"
   ]
  },
  {
   "cell_type": "code",
   "execution_count": 34,
   "metadata": {},
   "outputs": [],
   "source": [
    "def csv_string_to_python_array(csv_string):\n",
    "    variables = [var.strip() for var in csv_string.split(',')]\n",
    "    lines = []\n",
    "    for i in range(0, len(variables), 20):\n",
    "        line = \", \".join(f'\"{var}\"' for var in variables[i:i+20])\n",
    "        lines.append(line)\n",
    "\n",
    "    array_text = \"[\\n    \" + \",\\n    \".join(lines) + \"\\n]\"\n",
    "\n",
    "    print(\"Python array:\")\n",
    "    print(array_text)\n",
    "\n",
    "# Example usage\n",
    "csv_input = \"CNTSCHID, CNTSTUID,SISCO,ST347Q01JA,ST347Q02JA,ST349Q01JA_0,ST349Q01JA_1,ST349Q01JA_2,ST349Q01JA_3,ST349Q01JA_4,ST350Q01JA,ST356Q01JA,ST322Q01JA,ST322Q02JA,ST322Q03JA,ST322Q04JA,ST322Q06JA,ST322Q07JA,DURECEC,EFFORT1,EFFORT2,ST259Q01JA,WB164Q01HA,HOMEPOS,ST004D01T,GRADE,REPEAT,EXPECEDU,ICTAVSCH,ICTAVHOM,ICTDISTR,IMMIG,TARDYSD,ST226Q01JA,ST016Q01NA,MISSSC,Option_UH,OECD,PAREDINT,BMMJ1,BFMJ2,WB163Q06HA,WB163Q07HA,ST230Q01JA,SKIPPING,IC180Q01JA,IC180Q08JA,ST059Q02JA,ST296Q04JA,WB176Q01HA,STUDYHMW,IC184Q01JA,IC184Q02JA,IC184Q03JA,IC184Q04JA,ST059Q01TA,ST296Q01JA,ST272Q01JA,ST268Q01JA,ST268Q04JA,ST268Q07JA,ST293Q04JA,ST297Q01JA,ST297Q03JA,ST297Q05JA,ST297Q06JA,ST297Q07JA,ST297Q09JA,WB165Q01HA,WB166Q01HA,WB166Q02HA,WB166Q03HA,WB166Q04HA,ST258Q01JA,ST294Q01JA,ST295Q01JA,WB150Q01HA,WB156Q01HA,WB158Q01HA,WB160Q01HA,WB161Q01HA,WB171Q01HA,WB171Q02HA,WB171Q03HA,WB171Q04HA,WB172Q01HA,WB173Q01HA,WB173Q02HA,WB173Q03HA,WB173Q04HA,WB177Q01HA,WB177Q02HA,WB177Q03HA,WB177Q04HA,WB032Q01NA,WB032Q02NA,WB031Q01NA,EXERPRAC,STUBMI,RELATST,BELONG,BULLIED,FEELSAFE,SCHRISK,PERSEVAGR,CURIOAGR,COOPAGR,EMPATAGR,ASSERAGR,STRESAGR,EMOCOAGR,GROSAGR,INFOSEEK,FAMSUP,DISCLIM,TEACHSUP,COGACRCO,COGACMCO,EXPOFA,EXPO21ST,MATHEFF,MATHEF21,FAMCON,ANXMAT,MATHPERS,CREATEFF,CREATSCH,CREATFAM,CREATAS,CREATOOS,CREATOP,OPENART,IMAGINE,SCHSUST,LEARRES,PROBSELF,FAMSUPSL,FEELLAH,SDLEFF,ICTRES,ESCS,FLSCHOOL,FLMULTSB,FLFAMILY,ACCESSFP,FLCONFIN,FLCONICT,ACCESSFA,ATTCONFM,FRINFLFM,ICTSCH,ICTHOME,ICTQUAL,ICTSUBJ,ICTENQ,ICTFEED,ICTOUT,ICTWKDY,ICTWKEND,ICTREG,ICTINFO,ICTEFFIC,BODYIMA,SOCONPA,LIFESAT,PSYCHSYM,SOCCON,EXPWB,CURSUPP,PQMIMP,PQMCAR,PARINVOL,PQSCHOOL,PASCHPOL,ATTIMMP,CREATHME,CREATACT,CREATOPN,CREATOR,WORKPAY,WORKHOME,SC001Q01TA,SC211Q01JA,SC211Q02JA,SC211Q03JA,SC211Q04JA,SC211Q05JA,SC211Q06JA,SC209Q04JA,SC209Q05JA,SC209Q06JA,SC037Q11JA,SC183Q02JA,SC183Q03JA,SC183Q04JA,SC175Q01JA,SC177Q01JA_1,SC177Q01JA_2,SC177Q01JA_3,SC177Q02JA_1,SC177Q02JA_2,SC177Q02JA_3,SC177Q03JA_1,SC177Q03JA_2,SC177Q03JA_3,SC188Q01JA,SC188Q02JA,SC188Q03JA,SC188Q04JA,SC188Q05JA,SC188Q06JA,SC188Q07JA,SC188Q08JA,SC188Q09JA,SC188Q10JA,SC188Q11JA,SC198Q01JA,SC198Q02JA,SC198Q03JA,SC178Q01JA,SC178Q02JA,SC180Q01JA,SC189Q02WA,SC189Q03WA,SC189Q04WA,SMRATIO,MCLSIZE,MACTIV,MATHEXC_0,MATHEXC_1,MATHEXC_2,MATHEXC_3,ABGMATH,SC064Q05WA,SC064Q06WA,SC064Q01TA,SC064Q02TA,SC064Q04NA,SC064Q03TA,SC064Q07WA,SC213Q01JA,SC213Q02JA,SC037Q01TA,SC037Q02TA,SC037Q03TA,SC037Q04TA,SC037Q05NA,SC037Q06NA,SC037Q07TA,SC037Q09TA,SC200Q01JA,SC200Q02JA,SC200Q03JA,SC200Q04JA,SC224Q01JA,RATCMP1,RATCMP2,RATTAB,SCHSEL,SCHLTYPE_1,SCHLTYPE_2,SCHLTYPE_3,SC034Q01NA,SC034Q02NA,SC034Q03TA,SC034Q04TA,SC195Q01JA,SC195Q02JA,SC195Q03JA,SC195Q04JA,SC042Q01TA,SC042Q02TA,SC214Q01JA,SC214Q02JA,SC214Q03JA,SC215Q01JA,SC215Q02JA,SC215Q03JA,SC215Q04JA,SC215Q05JA,SC215Q06JA,SC215Q07JA,SC215Q08JA,SC216Q06JA,SC216Q07JA,SC216Q08JA,SC216Q09JA,SC217Q01JA,SC217Q02JA,SC217Q03JA,SC217Q04JA,SC217Q05JA,SC217Q06JA,SC217Q07JA,SC217Q08JA,SC217Q10JA,SC218Q01JA,SC219Q01JA,SC220Q01JA,SC221Q01JA,SC221Q02JA,SC221Q03JA,SC221Q04JA,SCSUPRTED,SCSUPRT,SC212Q01JA,SC212Q02JA,SC212Q03JA,SC037Q08TA,SC032Q01TA,SC032Q02TA,SC032Q03TA,SC032Q04TA,SCHAUTO,TCHPART,EDULEAD,INSTLEAD,ENCOURPG,DIGDVPOL,TEAFDBK,MTTRAIN,DMCVIEWS,NEGSCLIM,STAFFSHORT,EDUSHORT,STUBEHA,TEACHBEHA,STDTEST,TDTEST,ALLACTIV,BCREATSC,CREENVSC,ACTCRESC,OPENCUL,PROBSCRI,SCPREPBP,SCPREPAP,DIGPREP,LANGN_105,LANGN_108,LANGN_112,LANGN_113,LANGN_118,LANGN_121,LANGN_130,LANGN_133,LANGN_137,LANGN_140,LANGN_147,LANGN_148,LANGN_150,LANGN_154,LANGN_156,LANGN_160,LANGN_170,LANGN_195,LANGN_200,LANGN_202,LANGN_204,LANGN_232,LANGN_237,LANGN_244,LANGN_246,LANGN_254,LANGN_258,LANGN_263,LANGN_264,LANGN_266,LANGN_272,LANGN_273,LANGN_275,LANGN_286,LANGN_301,LANGN_313,LANGN_316,LANGN_317,LANGN_322,LANGN_325,LANGN_327,LANGN_329,LANGN_338,LANGN_340,LANGN_344,LANGN_351,LANGN_358,LANGN_363,LANGN_369,LANGN_371,LANGN_375,LANGN_379,LANGN_381,LANGN_382,LANGN_383,LANGN_404,LANGN_409,LANGN_415,LANGN_420,LANGN_422,LANGN_428,LANGN_434,LANGN_442,LANGN_449,LANGN_451,LANGN_463,LANGN_465,LANGN_467,LANGN_471,LANGN_472,LANGN_474,LANGN_492,LANGN_493,LANGN_494,LANGN_495,LANGN_496,LANGN_500,LANGN_503,LANGN_514,LANGN_517,LANGN_520,LANGN_523,LANGN_527,LANGN_529,LANGN_531,LANGN_540,LANGN_547,LANGN_555,LANGN_561,LANGN_562,LANGN_563,LANGN_565,LANGN_566,LANGN_567,LANGN_600,LANGN_601,LANGN_602,LANGN_605,LANGN_606,LANGN_607,LANGN_608,LANGN_611,LANGN_614,LANGN_615,LANGN_616,LANGN_618,LANGN_619,LANGN_621,LANGN_622,LANGN_623,LANGN_624,LANGN_625,LANGN_626,LANGN_627,LANGN_628,LANGN_630,LANGN_631,LANGN_634,LANGN_635,LANGN_639,LANGN_640,LANGN_641,LANGN_642,LANGN_648,LANGN_650,LANGN_661,LANGN_662,LANGN_663,LANGN_665,LANGN_666,LANGN_667,LANGN_668,LANGN_669,LANGN_670,LANGN_673,LANGN_674,LANGN_675,LANGN_676,LANGN_677,LANGN_678,LANGN_800,LANGN_801,LANGN_802,LANGN_804,LANGN_805,LANGN_806,LANGN_807,LANGN_808,LANGN_809,LANGN_810,LANGN_811,LANGN_812,LANGN_813,LANGN_814,LANGN_815,LANGN_816,LANGN_817,LANGN_818,LANGN_819,LANGN_821,LANGN_823,LANGN_824,LANGN_825,LANGN_826,LANGN_827,LANGN_828,LANGN_829,LANGN_831,LANGN_832,LANGN_833,LANGN_836,LANGN_837,LANGN_838,LANGN_839,LANGN_840,LANGN_841,LANGN_842,LANGN_843,LANGN_844,LANGN_845,LANGN_846,LANGN_849,LANGN_850,LANGN_851,LANGN_852,LANGN_854,LANGN_855,LANGN_857,LANGN_859,LANGN_860,LANGN_861,LANGN_865,LANGN_866,LANGN_868,LANGN_870,LANGN_872,LANGN_873,LANGN_877,LANGN_879,LANGN_881,LANGN_885,LANGN_890,LANGN_892,LANGN_895,LANGN_896,LANGN_897,LANGN_898,LANGN_899,LANGN_900,LANGN_901,LANGN_902,LANGN_903,LANGN_904,LANGN_905,LANGN_906,LANGN_907,LANGN_908,LANGN_909,LANGN_910,LANGN_911,LANGN_912,LANGN_913,LANGN_914,LANGN_916,LANGN_917,LANGN_918,LANGN_919,LANGN_920,LANGN_921,LANGN_922\"\n",
    "#csv_string_to_python_array(csv_input)"
   ]
  },
  {
   "cell_type": "code",
   "execution_count": 38,
   "metadata": {
    "tags": []
   },
   "outputs": [],
   "source": [
    "# cell 30\n",
    "model_config = clarify.ModelConfig(\n",
    "    model_name=tuner_predictor.endpoint_name,  # specify the inference pipeline model name\n",
    "    instance_type=\"ml.c5.xlarge\",\n",
    "    instance_count=1,\n",
    "    accept_type=\"text/csv\",\n",
    ")"
   ]
  },
  {
   "cell_type": "code",
   "execution_count": 49,
   "metadata": {},
   "outputs": [
    {
     "name": "stderr",
     "output_type": "stream",
     "text": [
      "INFO:sagemaker:Deleting endpoint configuration with name: xgboost-250217-0415-003-45af3f90\n",
      "INFO:sagemaker:Deleting endpoint with name: xgboost-250217-0415-003-45af3f90\n"
     ]
    }
   ],
   "source": [
    "tuner_predictor.delete_endpoint(delete_endpoint_config=True)"
   ]
  },
  {
   "cell_type": "markdown",
   "metadata": {},
   "source": [
    "### Run SageMaker Clarify Explainability job\n",
    "\n",
    "All the configurations are in place. Let's start the explainability job. This will spin up an ephemeral SageMaker endpoint and perform inference and calculate explanations on that endpoint. It does not use any existing production endpoint deployments.\n",
    "\n",
    "#### NOTE: THIS CELL WILL RUN FOR APPROX. 5-8 MINUTES! PLEASE BE PATIENT.\n",
    "For further documentation on SageMaker Clarify , you can refer the documentation [here](https://docs.aws.amazon.com/sagemaker/latest/dg/clarify-fairness-and-explainability.html)"
   ]
  },
  {
   "cell_type": "code",
   "execution_count": 48,
   "metadata": {},
   "outputs": [
    {
     "name": "stdout",
     "output_type": "stream",
     "text": [
      "xgboost-2025-02-17-06-15-59-294\n",
      "xgboost-2025-02-17-06-12-36-993\n",
      "xgboost-2025-02-17-05-07-19-197\n",
      "xgboost-2025-02-17-04-32-36-355\n",
      "xgboost-2025-02-17-04-08-52-496\n",
      "xgboost-2025-02-17-02-49-29-137\n",
      "xgboost-2025-02-17-01-13-03-516\n",
      "xgboost-2025-02-17-01-02-51-463\n",
      "xgboost-2025-02-17-01-00-46-401\n"
     ]
    }
   ],
   "source": [
    "import boto3\n",
    "sm_client = boto3.client('sagemaker')\n",
    "\n",
    "models = sm_client.list_models()\n",
    "for model in models['Models']:\n",
    "    print(model['ModelName'])"
   ]
  },
  {
   "cell_type": "code",
   "execution_count": 47,
   "metadata": {
    "tags": []
   },
   "outputs": [
    {
     "name": "stderr",
     "output_type": "stream",
     "text": [
      "INFO:sagemaker.clarify:Analysis Config: {'dataset_type': 'text/csv', 'headers': ['CNTSCHID', 'CNTSTUID', 'SISCO', 'ST347Q01JA', 'ST347Q02JA', 'ST349Q01JA_0', 'ST349Q01JA_1', 'ST349Q01JA_2', 'ST349Q01JA_3', 'ST349Q01JA_4', 'ST350Q01JA', 'ST356Q01JA', 'ST322Q01JA', 'ST322Q02JA', 'ST322Q03JA', 'ST322Q04JA', 'ST322Q06JA', 'ST322Q07JA', 'DURECEC', 'EFFORT1', 'EFFORT2', 'ST259Q01JA', 'WB164Q01HA', 'HOMEPOS', 'ST004D01T', 'GRADE', 'REPEAT', 'EXPECEDU', 'ICTAVSCH', 'ICTAVHOM', 'ICTDISTR', 'IMMIG', 'TARDYSD', 'ST226Q01JA', 'ST016Q01NA', 'MISSSC', 'Option_UH', 'OECD', 'PAREDINT', 'BMMJ1', 'BFMJ2', 'WB163Q06HA', 'WB163Q07HA', 'ST230Q01JA', 'SKIPPING', 'IC180Q01JA', 'IC180Q08JA', 'ST059Q02JA', 'ST296Q04JA', 'WB176Q01HA', 'STUDYHMW', 'IC184Q01JA', 'IC184Q02JA', 'IC184Q03JA', 'IC184Q04JA', 'ST059Q01TA', 'ST296Q01JA', 'ST272Q01JA', 'ST268Q01JA', 'ST268Q04JA', 'ST268Q07JA', 'ST293Q04JA', 'ST297Q01JA', 'ST297Q03JA', 'ST297Q05JA', 'ST297Q06JA', 'ST297Q07JA', 'ST297Q09JA', 'WB165Q01HA', 'WB166Q01HA', 'WB166Q02HA', 'WB166Q03HA', 'WB166Q04HA', 'ST258Q01JA', 'ST294Q01JA', 'ST295Q01JA', 'WB150Q01HA', 'WB156Q01HA', 'WB158Q01HA', 'WB160Q01HA', 'WB161Q01HA', 'WB171Q01HA', 'WB171Q02HA', 'WB171Q03HA', 'WB171Q04HA', 'WB172Q01HA', 'WB173Q01HA', 'WB173Q02HA', 'WB173Q03HA', 'WB173Q04HA', 'WB177Q01HA', 'WB177Q02HA', 'WB177Q03HA', 'WB177Q04HA', 'WB032Q01NA', 'WB032Q02NA', 'WB031Q01NA', 'EXERPRAC', 'STUBMI', 'RELATST', 'BELONG', 'BULLIED', 'FEELSAFE', 'SCHRISK', 'PERSEVAGR', 'CURIOAGR', 'COOPAGR', 'EMPATAGR', 'ASSERAGR', 'STRESAGR', 'EMOCOAGR', 'GROSAGR', 'INFOSEEK', 'FAMSUP', 'DISCLIM', 'TEACHSUP', 'COGACRCO', 'COGACMCO', 'EXPOFA', 'EXPO21ST', 'MATHEFF', 'MATHEF21', 'FAMCON', 'ANXMAT', 'MATHPERS', 'CREATEFF', 'CREATSCH', 'CREATFAM', 'CREATAS', 'CREATOOS', 'CREATOP', 'OPENART', 'IMAGINE', 'SCHSUST', 'LEARRES', 'PROBSELF', 'FAMSUPSL', 'FEELLAH', 'SDLEFF', 'ICTRES', 'ESCS', 'FLSCHOOL', 'FLMULTSB', 'FLFAMILY', 'ACCESSFP', 'FLCONFIN', 'FLCONICT', 'ACCESSFA', 'ATTCONFM', 'FRINFLFM', 'ICTSCH', 'ICTHOME', 'ICTQUAL', 'ICTSUBJ', 'ICTENQ', 'ICTFEED', 'ICTOUT', 'ICTWKDY', 'ICTWKEND', 'ICTREG', 'ICTINFO', 'ICTEFFIC', 'BODYIMA', 'SOCONPA', 'LIFESAT', 'PSYCHSYM', 'SOCCON', 'EXPWB', 'CURSUPP', 'PQMIMP', 'PQMCAR', 'PARINVOL', 'PQSCHOOL', 'PASCHPOL', 'ATTIMMP', 'CREATHME', 'CREATACT', 'CREATOPN', 'CREATOR', 'WORKPAY', 'WORKHOME', 'SC001Q01TA', 'SC211Q01JA', 'SC211Q02JA', 'SC211Q03JA', 'SC211Q04JA', 'SC211Q05JA', 'SC211Q06JA', 'SC209Q04JA', 'SC209Q05JA', 'SC209Q06JA', 'SC037Q11JA', 'SC183Q02JA', 'SC183Q03JA', 'SC183Q04JA', 'SC175Q01JA', 'SC177Q01JA_1', 'SC177Q01JA_2', 'SC177Q01JA_3', 'SC177Q02JA_1', 'SC177Q02JA_2', 'SC177Q02JA_3', 'SC177Q03JA_1', 'SC177Q03JA_2', 'SC177Q03JA_3', 'SC188Q01JA', 'SC188Q02JA', 'SC188Q03JA', 'SC188Q04JA', 'SC188Q05JA', 'SC188Q06JA', 'SC188Q07JA', 'SC188Q08JA', 'SC188Q09JA', 'SC188Q10JA', 'SC188Q11JA', 'SC198Q01JA', 'SC198Q02JA', 'SC198Q03JA', 'SC178Q01JA', 'SC178Q02JA', 'SC180Q01JA', 'SC189Q02WA', 'SC189Q03WA', 'SC189Q04WA', 'SMRATIO', 'MCLSIZE', 'MACTIV', 'MATHEXC_0', 'MATHEXC_1', 'MATHEXC_2', 'MATHEXC_3', 'ABGMATH', 'SC064Q05WA', 'SC064Q06WA', 'SC064Q01TA', 'SC064Q02TA', 'SC064Q04NA', 'SC064Q03TA', 'SC064Q07WA', 'SC213Q01JA', 'SC213Q02JA', 'SC037Q01TA', 'SC037Q02TA', 'SC037Q03TA', 'SC037Q04TA', 'SC037Q05NA', 'SC037Q06NA', 'SC037Q07TA', 'SC037Q09TA', 'SC200Q01JA', 'SC200Q02JA', 'SC200Q03JA', 'SC200Q04JA', 'SC224Q01JA', 'RATCMP1', 'RATCMP2', 'RATTAB', 'SCHSEL', 'SCHLTYPE_1', 'SCHLTYPE_2', 'SCHLTYPE_3', 'SC034Q01NA', 'SC034Q02NA', 'SC034Q03TA', 'SC034Q04TA', 'SC195Q01JA', 'SC195Q02JA', 'SC195Q03JA', 'SC195Q04JA', 'SC042Q01TA', 'SC042Q02TA', 'SC214Q01JA', 'SC214Q02JA', 'SC214Q03JA', 'SC215Q01JA', 'SC215Q02JA', 'SC215Q03JA', 'SC215Q04JA', 'SC215Q05JA', 'SC215Q06JA', 'SC215Q07JA', 'SC215Q08JA', 'SC216Q06JA', 'SC216Q07JA', 'SC216Q08JA', 'SC216Q09JA', 'SC217Q01JA', 'SC217Q02JA', 'SC217Q03JA', 'SC217Q04JA', 'SC217Q05JA', 'SC217Q06JA', 'SC217Q07JA', 'SC217Q08JA', 'SC217Q10JA', 'SC218Q01JA', 'SC219Q01JA', 'SC220Q01JA', 'SC221Q01JA', 'SC221Q02JA', 'SC221Q03JA', 'SC221Q04JA', 'SCSUPRTED', 'SCSUPRT', 'SC212Q01JA', 'SC212Q02JA', 'SC212Q03JA', 'SC037Q08TA', 'SC032Q01TA', 'SC032Q02TA', 'SC032Q03TA', 'SC032Q04TA', 'SCHAUTO', 'TCHPART', 'EDULEAD', 'INSTLEAD', 'ENCOURPG', 'DIGDVPOL', 'TEAFDBK', 'MTTRAIN', 'DMCVIEWS', 'NEGSCLIM', 'STAFFSHORT', 'EDUSHORT', 'STUBEHA', 'TEACHBEHA', 'STDTEST', 'TDTEST', 'ALLACTIV', 'BCREATSC', 'CREENVSC', 'ACTCRESC', 'OPENCUL', 'PROBSCRI', 'SCPREPBP', 'SCPREPAP', 'DIGPREP', 'LANGN_105', 'LANGN_108', 'LANGN_112', 'LANGN_113', 'LANGN_118', 'LANGN_121', 'LANGN_130', 'LANGN_133', 'LANGN_137', 'LANGN_140', 'LANGN_147', 'LANGN_148', 'LANGN_150', 'LANGN_154', 'LANGN_156', 'LANGN_160', 'LANGN_170', 'LANGN_195', 'LANGN_200', 'LANGN_202', 'LANGN_204', 'LANGN_232', 'LANGN_237', 'LANGN_244', 'LANGN_246', 'LANGN_254', 'LANGN_258', 'LANGN_263', 'LANGN_264', 'LANGN_266', 'LANGN_272', 'LANGN_273', 'LANGN_275', 'LANGN_286', 'LANGN_301', 'LANGN_313', 'LANGN_316', 'LANGN_317', 'LANGN_322', 'LANGN_325', 'LANGN_327', 'LANGN_329', 'LANGN_338', 'LANGN_340', 'LANGN_344', 'LANGN_351', 'LANGN_358', 'LANGN_363', 'LANGN_369', 'LANGN_371', 'LANGN_375', 'LANGN_379', 'LANGN_381', 'LANGN_382', 'LANGN_383', 'LANGN_404', 'LANGN_409', 'LANGN_415', 'LANGN_420', 'LANGN_422', 'LANGN_428', 'LANGN_434', 'LANGN_442', 'LANGN_449', 'LANGN_451', 'LANGN_463', 'LANGN_465', 'LANGN_467', 'LANGN_471', 'LANGN_472', 'LANGN_474', 'LANGN_492', 'LANGN_493', 'LANGN_494', 'LANGN_495', 'LANGN_496', 'LANGN_500', 'LANGN_503', 'LANGN_514', 'LANGN_517', 'LANGN_520', 'LANGN_523', 'LANGN_527', 'LANGN_529', 'LANGN_531', 'LANGN_540', 'LANGN_547', 'LANGN_555', 'LANGN_561', 'LANGN_562', 'LANGN_563', 'LANGN_565', 'LANGN_566', 'LANGN_567', 'LANGN_600', 'LANGN_601', 'LANGN_602', 'LANGN_605', 'LANGN_606', 'LANGN_607', 'LANGN_608', 'LANGN_611', 'LANGN_614', 'LANGN_615', 'LANGN_616', 'LANGN_618', 'LANGN_619', 'LANGN_621', 'LANGN_622', 'LANGN_623', 'LANGN_624', 'LANGN_625', 'LANGN_626', 'LANGN_627', 'LANGN_628', 'LANGN_630', 'LANGN_631', 'LANGN_634', 'LANGN_635', 'LANGN_639', 'LANGN_640', 'LANGN_641', 'LANGN_642', 'LANGN_648', 'LANGN_650', 'LANGN_661', 'LANGN_662', 'LANGN_663', 'LANGN_665', 'LANGN_666', 'LANGN_667', 'LANGN_668', 'LANGN_669', 'LANGN_670', 'LANGN_673', 'LANGN_674', 'LANGN_675', 'LANGN_676', 'LANGN_677', 'LANGN_678', 'LANGN_800', 'LANGN_801', 'LANGN_802', 'LANGN_804', 'LANGN_805', 'LANGN_806', 'LANGN_807', 'LANGN_808', 'LANGN_809', 'LANGN_810', 'LANGN_811', 'LANGN_812', 'LANGN_813', 'LANGN_814', 'LANGN_815', 'LANGN_816', 'LANGN_817', 'LANGN_818', 'LANGN_819', 'LANGN_821', 'LANGN_823', 'LANGN_824', 'LANGN_825', 'LANGN_826', 'LANGN_827', 'LANGN_828', 'LANGN_829', 'LANGN_831', 'LANGN_832', 'LANGN_833', 'LANGN_836', 'LANGN_837', 'LANGN_838', 'LANGN_839', 'LANGN_840', 'LANGN_841', 'LANGN_842', 'LANGN_843', 'LANGN_844', 'LANGN_845', 'LANGN_846', 'LANGN_849', 'LANGN_850', 'LANGN_851', 'LANGN_852', 'LANGN_854', 'LANGN_855', 'LANGN_857', 'LANGN_859', 'LANGN_860', 'LANGN_861', 'LANGN_865', 'LANGN_866', 'LANGN_868', 'LANGN_870', 'LANGN_872', 'LANGN_873', 'LANGN_877', 'LANGN_879', 'LANGN_881', 'LANGN_885', 'LANGN_890', 'LANGN_892', 'LANGN_895', 'LANGN_896', 'LANGN_897', 'LANGN_898', 'LANGN_899', 'LANGN_900', 'LANGN_901', 'LANGN_902', 'LANGN_903', 'LANGN_904', 'LANGN_905', 'LANGN_906', 'LANGN_907', 'LANGN_908', 'LANGN_909', 'LANGN_910', 'LANGN_911', 'LANGN_912', 'LANGN_913', 'LANGN_914', 'LANGN_916', 'LANGN_917', 'LANGN_918', 'LANGN_919', 'LANGN_920', 'LANGN_921', 'LANGN_922'], 'predictor': {'model_name': 'xgboost-250217-0415-003-45af3f90', 'instance_type': 'ml.c5.xlarge', 'initial_instance_count': 1, 'accept_type': 'text/csv'}, 'methods': {'report': {'name': 'report', 'title': 'Analysis Report'}, 'shap': {'use_logit': True, 'save_local_shap_values': True, 'baseline': [[49900035, 800001, 1, 4, 1, 0, 0, 0, 0, 0, 1, 3, 5, 5, 5, 1, 1, 1, 3, 8, 10, 8, 2, -2, 2, 0, 0, 9, 7, 6, 4, 1, 0, 1, 10, 0, 0, 0, 16, 17, 25, 2, 1, 4, 0, 2, 2, 30, 1, 2, 10, 1, 4, 1, 1, 4, 1, 8, 2, 2, 4, 1, 0, 0, 0, 0, 0, 0, 1, 2, 2, 1, 2, 1, 6, 6, 2, 5, 3, 2, 3, 3, 1, 1, 2, 3, 1, 4, 1, 4, 2, 2, 1, 2, 3, 1, 3, 10, 20, 0, 0, -1, 1, 0, 0, 0, 0, 0, 0, 0, 0, 0, -1, 2, 0, 1, 0, 0, 0, 0, 0, 0, 0, 0, 2, 0, 0, 0, -1, 0, 0, 0, 0, 2, 2, -1, -1, 0, 0, 0, 0, -1, 1, -2, -2, 0, 0, 0, 0, 0, 0, 0, 0, -2, -2, -1, 0, 0, 0, -2, 0, 2, 0, 1, 0, -2, 0, 1, 4, 0, -1, 0, 0, 0, 0, 0, 0, 0, 0, 0, 10, 3, 0, 0, 0, 0, 0, 0, 1, 1, 1, 2, 2, 1, 1, 45, 0, 0, 0, 0, 0, 0, 0, 0, 0, 1, 4, 4, 4, 1, 1, 4, 4, 3, 3, 1, 2, 1, 1, 100, 0, 1, 2, 1, 1, 100, 23, 1, 0, 0, 0, 0, 3, 10, 100, 10, 100, 0, 5, 0, 0, 0, 1, 1, 1, 1, 1, 1, 1, 1, 1, 1, 1, 1, 3, 1, 1, 0, 3, 0, 0, 1, 2, 2, 4, 5, 2, 1, 4, 5, 3, 3, 5, 1, 1, 1, 1, 1, 1, 1, 1, 2, 2, 1, 2, 1, 2, 2, 1, 1, 1, 1, 1, 1, 1, 1, 1, 11, 2, 1, 1, 1, 1, 1, 1, 1, 1, 1, 1, 1, 1, 1, 2, 0, -1, -1, 0, 0, 1, -1, 1, 2, -1, -1, -1, -3, -2, 2, 2, 2, 1, 0, -2, 0, 0, 0, 0, 0, 0, 0, 0, 0, 0, 0, 0, 0, 0, 0, 0, 0, 0, 0, 0, 0, 0, 0, 0, 0, 0, 0, 0, 0, 0, 0, 0, 0, 0, 0, 0, 0, 0, 0, 0, 0, 0, 0, 0, 0, 0, 0, 0, 0, 0, 0, 0, 0, 0, 0, 0, 0, 0, 0, 0, 0, 0, 0, 0, 0, 0, 0, 0, 0, 0, 0, 0, 0, 0, 0, 0, 0, 0, 0, 0, 0, 0, 0, 0, 0, 0, 0, 0, 0, 0, 0, 0, 0, 0, 0, 0, 0, 0, 0, 0, 0, 0, 0, 0, 0, 0, 0, 0, 0, 0, 0, 0, 0, 0, 0, 0, 0, 0, 0, 0, 0, 0, 0, 0, 0, 0, 0, 0, 0, 0, 0, 0, 0, 0, 0, 0, 0, 0, 0, 0, 0, 0, 0, 0, 0, 0, 0, 0, 0, 0, 0, 0, 0, 0, 0, 0, 0, 0, 0, 0, 0, 0, 0, 0, 0, 0, 0, 0, 0, 0, 0, 0, 0, 0, 0, 0, 0, 0, 0, 0, 0, 0, 0, 0, 0, 0, 0, 0, 0, 0, 0, 0, 0, 0, 0, 0, 0, 0, 0, 0, 0, 0, 0, 0, 0, 0, 0, 0, 0, 0, 0, 0, 0, 0, 0, 0, 0, 0, 0, 0, 0, 0, 0, 0, 0, 0, 0, 0, 0, 0, 0, 0, 0, 0, 0]], 'num_samples': 3120, 'agg_method': 'mean_abs'}}}\n",
      "INFO:sagemaker:Creating processing-job with name Clarify-Explainability-2025-02-17-06-31-03-766\n"
     ]
    },
    {
     "name": "stdout",
     "output_type": "stream",
     "text": [
      ".............................\u001b[34msagemaker.config INFO - Not applying SDK defaults from location: /etc/xdg/sagemaker/config.yaml\u001b[0m\n",
      "\u001b[34msagemaker.config INFO - Not applying SDK defaults from location: /root/.config/sagemaker/config.yaml\u001b[0m\n",
      "\u001b[34mWe are not in a supported iso region, /bin/sh exiting gracefully with no changes.\u001b[0m\n",
      "\u001b[34mWARNING:root:logging.conf not found when configuring logging, using default logging configuration.\u001b[0m\n",
      "\u001b[34mINFO:sagemaker-clarify-processing:Starting SageMaker Clarify Processing job\u001b[0m\n",
      "\u001b[34mINFO:analyzer.data_loading.data_loader_util:Analysis config path: /opt/ml/processing/input/config/analysis_config.json\u001b[0m\n",
      "\u001b[34mINFO:analyzer.data_loading.data_loader_util:Analysis result path: /opt/ml/processing/output\u001b[0m\n",
      "\u001b[34mINFO:analyzer.data_loading.data_loader_util:This host is algo-1.\u001b[0m\n",
      "\u001b[34mINFO:analyzer.data_loading.data_loader_util:This host is the leader.\u001b[0m\n",
      "\u001b[34mINFO:analyzer.data_loading.data_loader_util:Number of hosts in the cluster is 1.\u001b[0m\n",
      "\u001b[34mINFO:sagemaker-clarify-processing:Running Python / Pandas based analyzer.\u001b[0m\n",
      "\u001b[34mINFO:analyzer.data_loading.data_loader_factory:Dataset type: text/csv uri: /opt/ml/processing/input/data\u001b[0m\n",
      "\u001b[34mINFO:sagemaker-clarify-processing:Loading dataset...\u001b[0m\n",
      "\u001b[34mINFO:sagemaker-clarify-processing:Loaded dataset. Dataset info:\u001b[0m\n",
      "\u001b[34m<class 'pandas.core.frame.DataFrame'>\u001b[0m\n",
      "\u001b[34mRangeIndex: 41430 entries, 0 to 41429\u001b[0m\n",
      "\u001b[34mColumns: 568 entries, CNTSCHID to LANGN_922\u001b[0m\n",
      "\u001b[34mdtypes: float64(313), int64(255)\u001b[0m\n",
      "\u001b[34mmemory usage: 179.5 MB\u001b[0m\n",
      "\u001b[34mINFO:analyzer.predictor.managed_endpoint:Spinning up shadow endpoint\u001b[0m\n",
      "\u001b[34mINFO:sagemaker:Creating endpoint-config with name sm-clarify-config-1739774155-405f\u001b[0m\n",
      "\u001b[34mINFO:analyzer.utils.system_util:exit_message: Customer Error: An error occurred (ValidationException) when calling the CreateEndpointConfig operation: Could not find model \"xgboost-250217-0415-003-45af3f90\".\u001b[0m\n",
      "\u001b[34mERROR:analyzer.utils.system_util:Errors occurred when analyzing your data. Please check CloudWatch logs for more details.\u001b[0m\n",
      "\u001b[34mTraceback (most recent call last):\n",
      "  File \"/usr/local/lib/python3.9/site-packages/analyzer/analysis_driver.py\", line 741, in main\n",
      "    violations = run_analysis(configs)\n",
      "  File \"/usr/local/lib/python3.9/site-packages/analyzer/analysis_driver.py\", line 661, in run_analysis\n",
      "    metrics_results: MetricResults = run_pandas_analysis(configs)  # type: ignore\n",
      "  File \"/usr/local/lib/python3.9/site-packages/analyzer/analysis_driver.py\", line 335, in run_pandas_analysis\n",
      "    predictor = create_tabular_predictor_factory(analysis_config, data_loader)()\n",
      "  File \"/usr/local/lib/python3.9/site-packages/analyzer/predictor/predictor_factory.py\", line 41, in <lambda>\n",
      "    return lambda: _create_predictor(\n",
      "  File \"/usr/local/lib/python3.9/site-packages/analyzer/predictor/predictor_factory.py\", line 28, in _create_predictor\n",
      "    return Predictor(\n",
      "  File \"/usr/local/lib/python3.9/site-packages/analyzer/predictor/predictor.py\", line 126, in __init__\n",
      "    self._create_predictor_for_non_timeseries(\n",
      "  File \"/usr/local/lib/python3.9/site-packages/analyzer/predictor/predictor.py\", line 278, in _create_predictor_for_non_timeseries\n",
      "    self.managed_endpoint = ManagedEndpoint(\n",
      "  File \"/usr/local/lib/python3.9/site-packages/analyzer/predictor/managed_endpoint.py\", line 121, in __init__\n",
      "    self.__sagemaker_session.create_endpoint_config(\n",
      "  File \"/usr/local/lib/python3.9/site-packages/sagemaker/session.py\", line 4472, in create_endpoint_config\n",
      "    self.sagemaker_client.create_endpoint_config(**request)\n",
      "  File \"/usr/local/lib/python3.9/site-packages/botocore/client.py\", line 565, in _api_call\n",
      "    return self._make_api_call(operation_name, kwargs)\n",
      "  File \"/usr/local/lib/python3.9/site-packages/botocore/client.py\", line 1021, in _make_api_call\n",
      "    raise error_class(parsed_response, operation_name)\u001b[0m\n",
      "\u001b[34mbotocore.exceptions.ClientError: An error occurred (ValidationException) when calling the CreateEndpointConfig operation: Could not find model \"xgboost-250217-0415-003-45af3f90\".\u001b[0m\n",
      "\u001b[34mException ignored in: <function Predictor.__del__ at 0x7f6f12fd84c0>\u001b[0m\n",
      "\u001b[34mTraceback (most recent call last):\n",
      "  File \"/usr/local/lib/python3.9/site-packages/analyzer/predictor/predictor.py\", line 584, in __del__\n",
      "    self.cleanup()\n",
      "  File \"/usr/local/lib/python3.9/site-packages/analyzer/predictor/predictor.py\", line 577, in cleanup\n",
      "    if self.managed_endpoint:\u001b[0m\n",
      "\u001b[34mAttributeError: 'Predictor' object has no attribute 'managed_endpoint'\u001b[0m\n",
      "\u001b[34mINFO:analyzer.predictor.managed_endpoint:Model endpoint delivered 0.00000 requests per second and a total of 0 requests over 1 seconds\u001b[0m\n"
     ]
    },
    {
     "ename": "KeyboardInterrupt",
     "evalue": "",
     "output_type": "error",
     "traceback": [
      "\u001b[0;31m---------------------------------------------------------------------------\u001b[0m",
      "\u001b[0;31mKeyboardInterrupt\u001b[0m                         Traceback (most recent call last)",
      "Cell \u001b[0;32mIn[47], line 2\u001b[0m\n\u001b[1;32m      1\u001b[0m \u001b[38;5;66;03m# cell 31\u001b[39;00m\n\u001b[0;32m----> 2\u001b[0m \u001b[43mclarify_processor\u001b[49m\u001b[38;5;241;43m.\u001b[39;49m\u001b[43mrun_explainability\u001b[49m\u001b[43m(\u001b[49m\n\u001b[1;32m      3\u001b[0m \u001b[43m    \u001b[49m\u001b[43mdata_config\u001b[49m\u001b[38;5;241;43m=\u001b[39;49m\u001b[43mexplainability_data_config\u001b[49m\u001b[43m,\u001b[49m\n\u001b[1;32m      4\u001b[0m \u001b[43m    \u001b[49m\u001b[43mmodel_config\u001b[49m\u001b[38;5;241;43m=\u001b[39;49m\u001b[43mmodel_config\u001b[49m\u001b[43m,\u001b[49m\n\u001b[1;32m      5\u001b[0m \u001b[43m    \u001b[49m\u001b[43mexplainability_config\u001b[49m\u001b[38;5;241;43m=\u001b[39;49m\u001b[43mshap_config\u001b[49m\u001b[43m,\u001b[49m\n\u001b[1;32m      6\u001b[0m \u001b[43m)\u001b[49m\n",
      "File \u001b[0;32m/opt/conda/lib/python3.11/site-packages/sagemaker/clarify.py:2366\u001b[0m, in \u001b[0;36mSageMakerClarifyProcessor.run_explainability\u001b[0;34m(self, data_config, model_config, explainability_config, model_scores, wait, logs, job_name, kms_key, experiment_config)\u001b[0m\n\u001b[1;32m   2362\u001b[0m \u001b[38;5;66;03m# when name is either not provided (is None) or an empty string (\"\")\u001b[39;00m\n\u001b[1;32m   2363\u001b[0m job_name \u001b[38;5;241m=\u001b[39m job_name \u001b[38;5;129;01mor\u001b[39;00m utils\u001b[38;5;241m.\u001b[39mname_from_base(\n\u001b[1;32m   2364\u001b[0m     \u001b[38;5;28mself\u001b[39m\u001b[38;5;241m.\u001b[39mjob_name_prefix \u001b[38;5;129;01mor\u001b[39;00m \u001b[38;5;124m\"\u001b[39m\u001b[38;5;124mClarify-Explainability\u001b[39m\u001b[38;5;124m\"\u001b[39m\n\u001b[1;32m   2365\u001b[0m )\n\u001b[0;32m-> 2366\u001b[0m \u001b[38;5;28;01mreturn\u001b[39;00m \u001b[38;5;28;43mself\u001b[39;49m\u001b[38;5;241;43m.\u001b[39;49m\u001b[43m_run\u001b[49m\u001b[43m(\u001b[49m\n\u001b[1;32m   2367\u001b[0m \u001b[43m    \u001b[49m\u001b[43mdata_config\u001b[49m\u001b[43m,\u001b[49m\n\u001b[1;32m   2368\u001b[0m \u001b[43m    \u001b[49m\u001b[43manalysis_config\u001b[49m\u001b[43m,\u001b[49m\n\u001b[1;32m   2369\u001b[0m \u001b[43m    \u001b[49m\u001b[43mwait\u001b[49m\u001b[43m,\u001b[49m\n\u001b[1;32m   2370\u001b[0m \u001b[43m    \u001b[49m\u001b[43mlogs\u001b[49m\u001b[43m,\u001b[49m\n\u001b[1;32m   2371\u001b[0m \u001b[43m    \u001b[49m\u001b[43mjob_name\u001b[49m\u001b[43m,\u001b[49m\n\u001b[1;32m   2372\u001b[0m \u001b[43m    \u001b[49m\u001b[43mkms_key\u001b[49m\u001b[43m,\u001b[49m\n\u001b[1;32m   2373\u001b[0m \u001b[43m    \u001b[49m\u001b[43mexperiment_config\u001b[49m\u001b[43m,\u001b[49m\n\u001b[1;32m   2374\u001b[0m \u001b[43m\u001b[49m\u001b[43m)\u001b[49m\n",
      "File \u001b[0;32m/opt/conda/lib/python3.11/site-packages/sagemaker/clarify.py:2025\u001b[0m, in \u001b[0;36mSageMakerClarifyProcessor._run\u001b[0;34m(self, data_config, analysis_config, wait, logs, job_name, kms_key, experiment_config)\u001b[0m\n\u001b[1;32m   2009\u001b[0m data_input \u001b[38;5;241m=\u001b[39m ProcessingInput(\n\u001b[1;32m   2010\u001b[0m     input_name\u001b[38;5;241m=\u001b[39m\u001b[38;5;124m\"\u001b[39m\u001b[38;5;124mdataset\u001b[39m\u001b[38;5;124m\"\u001b[39m,\n\u001b[1;32m   2011\u001b[0m     source\u001b[38;5;241m=\u001b[39mdata_config\u001b[38;5;241m.\u001b[39ms3_data_input_path,\n\u001b[0;32m   (...)\u001b[0m\n\u001b[1;32m   2016\u001b[0m     s3_compression_type\u001b[38;5;241m=\u001b[39mdata_config\u001b[38;5;241m.\u001b[39ms3_compression_type,\n\u001b[1;32m   2017\u001b[0m )\n\u001b[1;32m   2018\u001b[0m result_output \u001b[38;5;241m=\u001b[39m ProcessingOutput(\n\u001b[1;32m   2019\u001b[0m     source\u001b[38;5;241m=\u001b[39m\u001b[38;5;28mself\u001b[39m\u001b[38;5;241m.\u001b[39m_CLARIFY_OUTPUT,\n\u001b[1;32m   2020\u001b[0m     destination\u001b[38;5;241m=\u001b[39mdata_config\u001b[38;5;241m.\u001b[39ms3_output_path,\n\u001b[1;32m   2021\u001b[0m     output_name\u001b[38;5;241m=\u001b[39m\u001b[38;5;124m\"\u001b[39m\u001b[38;5;124manalysis_result\u001b[39m\u001b[38;5;124m\"\u001b[39m,\n\u001b[1;32m   2022\u001b[0m     s3_upload_mode\u001b[38;5;241m=\u001b[39mProcessingOutputHandler\u001b[38;5;241m.\u001b[39mget_s3_upload_mode(analysis_config),\n\u001b[1;32m   2023\u001b[0m )\n\u001b[0;32m-> 2025\u001b[0m \u001b[38;5;28;01mreturn\u001b[39;00m \u001b[38;5;28;43msuper\u001b[39;49m\u001b[43m(\u001b[49m\u001b[43m)\u001b[49m\u001b[38;5;241;43m.\u001b[39;49m\u001b[43mrun\u001b[49m\u001b[43m(\u001b[49m\n\u001b[1;32m   2026\u001b[0m \u001b[43m    \u001b[49m\u001b[43minputs\u001b[49m\u001b[38;5;241;43m=\u001b[39;49m\u001b[43m[\u001b[49m\u001b[43mdata_input\u001b[49m\u001b[43m,\u001b[49m\u001b[43m \u001b[49m\u001b[43mconfig_input\u001b[49m\u001b[43m]\u001b[49m\u001b[43m,\u001b[49m\n\u001b[1;32m   2027\u001b[0m \u001b[43m    \u001b[49m\u001b[43moutputs\u001b[49m\u001b[38;5;241;43m=\u001b[39;49m\u001b[43m[\u001b[49m\u001b[43mresult_output\u001b[49m\u001b[43m]\u001b[49m\u001b[43m,\u001b[49m\n\u001b[1;32m   2028\u001b[0m \u001b[43m    \u001b[49m\u001b[43mwait\u001b[49m\u001b[38;5;241;43m=\u001b[39;49m\u001b[43mwait\u001b[49m\u001b[43m,\u001b[49m\n\u001b[1;32m   2029\u001b[0m \u001b[43m    \u001b[49m\u001b[43mlogs\u001b[49m\u001b[38;5;241;43m=\u001b[39;49m\u001b[43mlogs\u001b[49m\u001b[43m,\u001b[49m\n\u001b[1;32m   2030\u001b[0m \u001b[43m    \u001b[49m\u001b[43mjob_name\u001b[49m\u001b[38;5;241;43m=\u001b[39;49m\u001b[43mjob_name\u001b[49m\u001b[43m,\u001b[49m\n\u001b[1;32m   2031\u001b[0m \u001b[43m    \u001b[49m\u001b[43mkms_key\u001b[49m\u001b[38;5;241;43m=\u001b[39;49m\u001b[43mkms_key\u001b[49m\u001b[43m,\u001b[49m\n\u001b[1;32m   2032\u001b[0m \u001b[43m    \u001b[49m\u001b[43mexperiment_config\u001b[49m\u001b[38;5;241;43m=\u001b[39;49m\u001b[43mexperiment_config\u001b[49m\u001b[43m,\u001b[49m\n\u001b[1;32m   2033\u001b[0m \u001b[43m\u001b[49m\u001b[43m)\u001b[49m\n",
      "File \u001b[0;32m/opt/conda/lib/python3.11/site-packages/sagemaker/workflow/pipeline_context.py:346\u001b[0m, in \u001b[0;36mrunnable_by_pipeline.<locals>.wrapper\u001b[0;34m(*args, **kwargs)\u001b[0m\n\u001b[1;32m    342\u001b[0m         \u001b[38;5;28;01mreturn\u001b[39;00m context\n\u001b[1;32m    344\u001b[0m     \u001b[38;5;28;01mreturn\u001b[39;00m _StepArguments(retrieve_caller_name(self_instance), run_func, \u001b[38;5;241m*\u001b[39margs, \u001b[38;5;241m*\u001b[39m\u001b[38;5;241m*\u001b[39mkwargs)\n\u001b[0;32m--> 346\u001b[0m \u001b[38;5;28;01mreturn\u001b[39;00m \u001b[43mrun_func\u001b[49m\u001b[43m(\u001b[49m\u001b[38;5;241;43m*\u001b[39;49m\u001b[43margs\u001b[49m\u001b[43m,\u001b[49m\u001b[43m \u001b[49m\u001b[38;5;241;43m*\u001b[39;49m\u001b[38;5;241;43m*\u001b[39;49m\u001b[43mkwargs\u001b[49m\u001b[43m)\u001b[49m\n",
      "File \u001b[0;32m/opt/conda/lib/python3.11/site-packages/sagemaker/processing.py:277\u001b[0m, in \u001b[0;36mProcessor.run\u001b[0;34m(self, inputs, outputs, arguments, wait, logs, job_name, experiment_config, kms_key)\u001b[0m\n\u001b[1;32m    275\u001b[0m \u001b[38;5;28mself\u001b[39m\u001b[38;5;241m.\u001b[39mjobs\u001b[38;5;241m.\u001b[39mappend(\u001b[38;5;28mself\u001b[39m\u001b[38;5;241m.\u001b[39mlatest_job)\n\u001b[1;32m    276\u001b[0m \u001b[38;5;28;01mif\u001b[39;00m wait:\n\u001b[0;32m--> 277\u001b[0m     \u001b[38;5;28;43mself\u001b[39;49m\u001b[38;5;241;43m.\u001b[39;49m\u001b[43mlatest_job\u001b[49m\u001b[38;5;241;43m.\u001b[39;49m\u001b[43mwait\u001b[49m\u001b[43m(\u001b[49m\u001b[43mlogs\u001b[49m\u001b[38;5;241;43m=\u001b[39;49m\u001b[43mlogs\u001b[49m\u001b[43m)\u001b[49m\n",
      "File \u001b[0;32m/opt/conda/lib/python3.11/site-packages/sagemaker/processing.py:1113\u001b[0m, in \u001b[0;36mProcessingJob.wait\u001b[0;34m(self, logs)\u001b[0m\n\u001b[1;32m   1106\u001b[0m \u001b[38;5;250m\u001b[39m\u001b[38;5;124;03m\"\"\"Waits for the processing job to complete.\u001b[39;00m\n\u001b[1;32m   1107\u001b[0m \n\u001b[1;32m   1108\u001b[0m \u001b[38;5;124;03mArgs:\u001b[39;00m\n\u001b[1;32m   1109\u001b[0m \u001b[38;5;124;03m    logs (bool): Whether to show the logs produced by the job (default: True).\u001b[39;00m\n\u001b[1;32m   1110\u001b[0m \n\u001b[1;32m   1111\u001b[0m \u001b[38;5;124;03m\"\"\"\u001b[39;00m\n\u001b[1;32m   1112\u001b[0m \u001b[38;5;28;01mif\u001b[39;00m logs:\n\u001b[0;32m-> 1113\u001b[0m     \u001b[38;5;28;43mself\u001b[39;49m\u001b[38;5;241;43m.\u001b[39;49m\u001b[43msagemaker_session\u001b[49m\u001b[38;5;241;43m.\u001b[39;49m\u001b[43mlogs_for_processing_job\u001b[49m\u001b[43m(\u001b[49m\u001b[38;5;28;43mself\u001b[39;49m\u001b[38;5;241;43m.\u001b[39;49m\u001b[43mjob_name\u001b[49m\u001b[43m,\u001b[49m\u001b[43m \u001b[49m\u001b[43mwait\u001b[49m\u001b[38;5;241;43m=\u001b[39;49m\u001b[38;5;28;43;01mTrue\u001b[39;49;00m\u001b[43m)\u001b[49m\n\u001b[1;32m   1114\u001b[0m \u001b[38;5;28;01melse\u001b[39;00m:\n\u001b[1;32m   1115\u001b[0m     \u001b[38;5;28mself\u001b[39m\u001b[38;5;241m.\u001b[39msagemaker_session\u001b[38;5;241m.\u001b[39mwait_for_processing_job(\u001b[38;5;28mself\u001b[39m\u001b[38;5;241m.\u001b[39mjob_name)\n",
      "File \u001b[0;32m/opt/conda/lib/python3.11/site-packages/sagemaker/session.py:5912\u001b[0m, in \u001b[0;36mSession.logs_for_processing_job\u001b[0;34m(self, job_name, wait, poll)\u001b[0m\n\u001b[1;32m   5909\u001b[0m \u001b[38;5;28;01mif\u001b[39;00m state \u001b[38;5;241m==\u001b[39m LogState\u001b[38;5;241m.\u001b[39mCOMPLETE:\n\u001b[1;32m   5910\u001b[0m     \u001b[38;5;28;01mbreak\u001b[39;00m\n\u001b[0;32m-> 5912\u001b[0m time\u001b[38;5;241m.\u001b[39msleep(poll)\n\u001b[1;32m   5914\u001b[0m \u001b[38;5;28;01mif\u001b[39;00m state \u001b[38;5;241m==\u001b[39m LogState\u001b[38;5;241m.\u001b[39mJOB_COMPLETE:\n\u001b[1;32m   5915\u001b[0m     state \u001b[38;5;241m=\u001b[39m LogState\u001b[38;5;241m.\u001b[39mCOMPLETE\n",
      "\u001b[0;31mKeyboardInterrupt\u001b[0m: "
     ]
    }
   ],
   "source": [
    "# cell 31\n",
    "clarify_processor.run_explainability(\n",
    "    data_config=explainability_data_config,\n",
    "    model_config=model_config,\n",
    "    explainability_config=shap_config,\n",
    ")"
   ]
  },
  {
   "cell_type": "markdown",
   "metadata": {},
   "source": [
    "### Viewing the Explainability Report\n",
    "\n",
    "Once the job is complete, you can view the explainability report in Studio under the 'Experiments and trials' tab\n",
    "\n",
    "Look out for a trial component named 'clarify-explainability-' and see the Explainability tab. \n",
    "\n",
    "If you're not a Studio user yet, you can access this report at the following S3 bucket.\n",
    "\n",
    "The report contains global explanations for the model with the input dataset"
   ]
  },
  {
   "cell_type": "code",
   "execution_count": null,
   "metadata": {
    "tags": []
   },
   "outputs": [],
   "source": [
    "# cell 32\n",
    "explainability_output_path"
   ]
  },
  {
   "cell_type": "code",
   "execution_count": null,
   "metadata": {
    "tags": []
   },
   "outputs": [],
   "source": [
    "# cell 33\n",
    "run_explainability_job_name = clarify_processor.latest_job.job_name\n",
    "run_explainability_job_name\n"
   ]
  },
  {
   "cell_type": "code",
   "execution_count": null,
   "metadata": {
    "tags": []
   },
   "outputs": [],
   "source": [
    "# cell 34\n",
    "from IPython.core.display import display, HTML\n",
    "\n",
    "display(\n",
    "    HTML(\n",
    "        '<b>Review <a target=\"blank\" href=\"https://console.aws.amazon.com/sagemaker/home?region={}#/processing-jobs/{}\">Processing Job</a></b>'.format(\n",
    "            region, run_explainability_job_name\n",
    "        )\n",
    "    )\n",
    ")"
   ]
  },
  {
   "cell_type": "code",
   "execution_count": null,
   "metadata": {
    "tags": []
   },
   "outputs": [],
   "source": [
    "# cell 35\n",
    "from IPython.core.display import display, HTML\n",
    "\n",
    "display(\n",
    "    HTML(\n",
    "        '<b>Review <a target=\"blank\" href=\"https://console.aws.amazon.com/cloudwatch/home?region={}#logStream:group=/aws/sagemaker/ProcessingJobs;prefix={};streamFilter=typeLogStreamPrefix\">CloudWatch Logs</a> After About 5 Minutes</b>'.format(\n",
    "            region, run_explainability_job_name\n",
    "        )\n",
    "    )\n",
    ")"
   ]
  },
  {
   "cell_type": "code",
   "execution_count": null,
   "metadata": {
    "tags": []
   },
   "outputs": [],
   "source": [
    "# cell 36\n",
    "from IPython.core.display import display, HTML\n",
    "\n",
    "display(\n",
    "    HTML(\n",
    "        '<b>Review <a target=\"blank\" href=\"https://s3.console.aws.amazon.com/s3/buckets/{}?prefix={}/\">S3 Output Data</a> After The Processing Job Has Completed</b>'.format(\n",
    "            bucket, explainability_report_prefix\n",
    "        )\n",
    "    )\n",
    ")"
   ]
  },
  {
   "cell_type": "code",
   "execution_count": null,
   "metadata": {
    "tags": []
   },
   "outputs": [],
   "source": [
    "# cell 37\n",
    "explainability_output_path"
   ]
  },
  {
   "cell_type": "markdown",
   "metadata": {},
   "source": [
    "### Download report from S3"
   ]
  },
  {
   "cell_type": "code",
   "execution_count": null,
   "metadata": {
    "tags": []
   },
   "outputs": [],
   "source": [
    "# cell 38\n",
    "!aws s3 ls $explainability_output_path/\n"
   ]
  },
  {
   "cell_type": "code",
   "execution_count": null,
   "metadata": {
    "tags": []
   },
   "outputs": [],
   "source": [
    "# cell 39\n",
    "!aws s3 cp --recursive $explainability_output_path ./explainability_report/"
   ]
  },
  {
   "cell_type": "markdown",
   "metadata": {},
   "source": [
    "#### View the explainability pdf report below to see global explanations with SHAP for the model. The report also includes a SHAP summary plot for all individual  instances in the dataset."
   ]
  },
  {
   "cell_type": "code",
   "execution_count": null,
   "metadata": {
    "tags": []
   },
   "outputs": [],
   "source": [
    "# cell 40\n",
    "from IPython.core.display import display, HTML\n",
    "\n",
    "display(HTML('<b>Review <a target=\"blank\" href=\"./explainability_report/report.html\">Explainability Report</a></b>'))\n",
    "\n"
   ]
  },
  {
   "cell_type": "markdown",
   "metadata": {},
   "source": [
    "### View the Explainability Report in SageMaker Studio"
   ]
  },
  {
   "cell_type": "markdown",
   "metadata": {},
   "source": [
    "you can also view the explainability report in Studio under the experiments tab"
   ]
  },
  {
   "cell_type": "markdown",
   "metadata": {},
   "source": [
    "![title](explainability_detail.gif)"
   ]
  },
  {
   "cell_type": "markdown",
   "metadata": {},
   "source": [
    "### Analyze the local explanations of individual predictions by Clarify \n",
    "\n",
    "#### The pre-requisite for this section is that you have generated individual predictions for the test dataset by running inference with a SageMaker endpoint in the optional sections earlier\n",
    "In this section, we will analyze and understand the local explainability results for each individual prediction produced by Clarify. Clarify produces a CSV file which contains the SHAP value for each feature per prediction. Let us download the CSV."
   ]
  },
  {
   "cell_type": "code",
   "execution_count": null,
   "metadata": {
    "tags": []
   },
   "outputs": [],
   "source": [
    "# cell 41\n",
    "from sagemaker.s3 import S3Downloader\n",
    "import json\n",
    "import io\n",
    "\n",
    "# read the shap values\n",
    "S3Downloader.download(s3_uri=explainability_output_path + \"/explanations_shap\", local_path=\"output\")\n",
    "shap_values_df = pd.read_csv(\"output/out.csv\")\n",
    "print(shap_values_df.shape)"
   ]
  },
  {
   "cell_type": "markdown",
   "metadata": {},
   "source": [
    "Note that by default SHAP explains classifier models in terms of their margin output, before the logistic link function. That means the units of SHAP output and are log-odds units, so negative values imply probabilities of less than 0.5 meaning bad credit class (class 0). \n",
    "\n",
    "#### A brief technical summary of prediction output before the logistic link function and SHAP values\n",
    "\n",
    "y = f(x) is the log-odd (logit) unit for the prediction output\n",
    "\n",
    "E(y) is the log-odd (logit) unit for the prediction on the input baseline\n",
    "\n",
    "SHAP values are in log-odd units as well \n",
    "\n",
    "The following is expected to hold true for every individual prediction : \n",
    "\n",
    "sum(SHAP values) + E(y)) == model_prediction_logit\n",
    "\n",
    "logistic(model_prediction_logit) = model_prediction_probability\n",
    "\n",
    "E(y) < 0 implies baseline probability less than 0.5 (bad credit baseline)\n",
    "\n",
    "E(y) > 0 implies baseline probability greater than 0.5 (good credit baseline)\n",
    "\n",
    "y < 0 implies predicted probability less than 0.5 (bad credit)\n",
    "\n",
    "y > 0 implies predicted probability greater than 0.5 (good credit) \n",
    "\n",
    "\n"
   ]
  },
  {
   "cell_type": "markdown",
   "metadata": {},
   "source": [
    "We can retrieve E(y) , the log-odd unit of the prediction for the baseline input"
   ]
  },
  {
   "cell_type": "code",
   "execution_count": null,
   "metadata": {
    "tags": []
   },
   "outputs": [],
   "source": [
    "# cell 42\n",
    "# get the base expected value to be used to plot SHAP values\n",
    "S3Downloader.download(s3_uri=explainability_output_path + \"/analysis.json\", local_path=\"output\")\n",
    "\n",
    "with open(\"output/analysis.json\") as json_file:\n",
    "    data = json.load(json_file)\n",
    "    base_value = data[\"explanations\"][\"kernel_shap\"][\"label0\"][\"expected_value\"]\n",
    "\n",
    "print(\"E(y): \", base_value)"
   ]
  },
  {
   "cell_type": "markdown",
   "metadata": {},
   "source": [
    "As described in the earlier section, we have a baseline representing good credit prediction to be used with SHAP to contrast and explain bad credit predictions. E(y) > 0  implies baseline probability greater than 0.5 (good credit baseline). "
   ]
  },
  {
   "cell_type": "markdown",
   "metadata": {},
   "source": [
    "### Create a dataframe containing the model predictions generated earlier during inference"
   ]
  },
  {
   "cell_type": "code",
   "execution_count": null,
   "metadata": {
    "tags": []
   },
   "outputs": [],
   "source": [
    "# cell 43\n",
    "from pandas import DataFrame\n",
    "\n",
    "predictions_df = DataFrame(predictions, columns=[\"probability_score\"])\n",
    "\n",
    "predictions_df"
   ]
  },
  {
   "cell_type": "markdown",
   "metadata": {},
   "source": [
    "### Join the predictions, SHAP value and test data\n",
    "\n",
    "Now, we create a single dataframe containing all test data rows, with their corresponding SHAP values and prediction score."
   ]
  },
  {
   "cell_type": "code",
   "execution_count": null,
   "metadata": {
    "tags": []
   },
   "outputs": [],
   "source": [
    "# cell 44\n",
    "# join the probability score and shap values together in a single data frame\n",
    "predictions_df.reset_index(drop=True, inplace=True)\n",
    "shap_values_df.reset_index(drop=True, inplace=True)\n",
    "test_data.reset_index(drop=True, inplace=True)\n",
    "\n",
    "prediction_shap_df = pd.concat([predictions_df, shap_values_df, test_data], axis=1)\n",
    "prediction_shap_df[\"probability_score\"] = pd.to_numeric(\n",
    "    prediction_shap_df[\"probability_score\"], downcast=\"float\"\n",
    ")\n",
    "\n",
    "prediction_shap_df"
   ]
  },
  {
   "cell_type": "markdown",
   "metadata": {},
   "source": [
    "### Convert the probability score to binary prediction\n",
    "\n",
    "Now, convert the probability scores to a binary value(1/0), based on a threshold(0.5), where probability scores greater than 0.5 are positive outcomes (good credit) and lesser are negative outcomes (bad credit)."
   ]
  },
  {
   "cell_type": "code",
   "execution_count": null,
   "metadata": {
    "tags": []
   },
   "outputs": [],
   "source": [
    "# cell 45\n",
    "# create a new column as 'Prediction' converting the probability score to either 1 or 0\n",
    "prediction_shap_df.insert(\n",
    "    0, \"Prediction\", (prediction_shap_df[\"probability_score\"] > 0.5).astype(int)\n",
    ")\n",
    "\n",
    "prediction_shap_df"
   ]
  },
  {
   "cell_type": "markdown",
   "metadata": {},
   "source": [
    "### Filter for bad credit predictions only\n",
    "\n",
    "Since we interested in explaining negative outcomes (bad credit predictions) only in this use case, we filter the records to keep only the record with prediction as 0."
   ]
  },
  {
   "cell_type": "code",
   "execution_count": null,
   "metadata": {
    "tags": []
   },
   "outputs": [],
   "source": [
    "# cell 46\n",
    "bad_credit_outcomes_df = prediction_shap_df[prediction_shap_df.iloc[:, 0] == 0]\n",
    "bad_credit_outcomes_df"
   ]
  },
  {
   "cell_type": "markdown",
   "metadata": {},
   "source": [
    "### Create SHAP plots \n",
    "\n",
    "Now we try to create some additional SHAP plots to understand how much different features contributed to a specific negative outcome."
   ]
  },
  {
   "cell_type": "markdown",
   "metadata": {},
   "source": [
    "#### Install open source SHAP library for more visualizations"
   ]
  },
  {
   "cell_type": "code",
   "execution_count": null,
   "metadata": {
    "tags": []
   },
   "outputs": [],
   "source": [
    "# cell 47\n",
    "!conda update -n base -c defaults conda -y\n",
    "!pip uninstall numpy -y\n",
    "!pip uninstall numba -y\n",
    "!pip install numba\n",
    "!conda install -c conda-forge shap -y"
   ]
  },
  {
   "cell_type": "code",
   "execution_count": null,
   "metadata": {
    "tags": []
   },
   "outputs": [],
   "source": [
    "# cell 48\n",
    "import shap"
   ]
  },
  {
   "cell_type": "markdown",
   "metadata": {},
   "source": [
    "#### SHAP explanation plot for a single bad credit ensemble prediction instance. We will select the prediction instance with the lowest probability. "
   ]
  },
  {
   "cell_type": "code",
   "execution_count": null,
   "metadata": {
    "tags": []
   },
   "outputs": [],
   "source": [
    "# cell 49\n",
    "import matplotlib.pyplot as plt\n",
    "\n",
    "min_index = prediction_shap_df[\"probability_score\"].idxmin()\n",
    "print(min_index)\n",
    "print(\"mean probability of dataset\")\n",
    "print(prediction_shap_df[[\"probability_score\"]].mean())\n",
    "print(\"individual probability\")\n",
    "print(prediction_shap_df.iloc[min_index, 1])\n",
    "print(\"sum of shap values\")\n",
    "print(prediction_shap_df.iloc[min_index, 2:22].sum())\n",
    "print(\"base value from analysis.json\")\n",
    "print(base_value)"
   ]
  },
  {
   "cell_type": "markdown",
   "metadata": {},
   "source": [
    "Example 'bad credit' prediction SHAP values.\n",
    "\n",
    "In the chart below, f(x) is the prediction of this particular individual instance in log-odd units. If negative, it means it is a bad credit prediction. \n",
    "\n",
    "In the chart below, E(f(x)) is the prediction of the baseline input in log-odd units. It is positive , which means it belongs to the good credit class. \n",
    "\n",
    "The individual example is contrasted against the good credit baseline. So the features with negative SHAP values drive the final negative decision from the initial baseline positive value.\n",
    "\n",
    "\n"
   ]
  },
  {
   "cell_type": "markdown",
   "metadata": {},
   "source": [
    "### In the below example, the input features (status = 1) , (purpose = 0) and (personal_status_sex = 2) are the top 3 features driving the negative decision. "
   ]
  },
  {
   "cell_type": "markdown",
   "metadata": {},
   "source": [
    "You can refer the data description to understand the mapping of these values to logical categories. "
   ]
  },
  {
   "cell_type": "code",
   "execution_count": null,
   "metadata": {
    "tags": []
   },
   "outputs": [],
   "source": [
    "# cell 50\n",
    "import inspect\n",
    "import shap.plots._waterfall\n",
    "source = inspect.getsource(shap.plots._waterfall)\n",
    "new_source = source.replace(\"as pl\", \"as plt\")\n",
    "exec(new_source, shap.plots._waterfall.__dict__)\n",
    "\n",
    "explanation_obj = shap._explanation.Explanation(\n",
    "    values=prediction_shap_df.iloc[min_index, 2:22].to_numpy(),\n",
    "    base_values=base_value,\n",
    "    data=test_data.iloc[min_index].to_numpy(),\n",
    "    feature_names=test_data.columns,\n",
    ")\n",
    "shap.plots.waterfall(shap_values=explanation_obj, max_display=20, show=False)"
   ]
  },
  {
   "cell_type": "markdown",
   "metadata": {},
   "source": [
    "Feel free to change the min_index in the plot above to explain predictions of other individual instances"
   ]
  },
  {
   "cell_type": "markdown",
   "metadata": {},
   "source": [
    "### Detect data bias with Amazon SageMaker Clarify\n",
    "#### Amazon Science: [How Clarify helps machine learning developers detect unintended bias](https://www.amazon.science/latest-news/how-clarify-helps-machine-learning-developers-detect-unintended-bias)\n",
    "\n",
    "#### [Clarify Terms for Bias and Fairness](https://docs.aws.amazon.com/sagemaker/latest/dg/clarify-detect-data-bias.html) \n",
    "\n",
    "#### [Pre-training bias metrics](https://docs.aws.amazon.com/sagemaker/latest/dg/clarify-measure-data-bias.html)   \n",
    "\n",
    "#### [Post-training bias metrics](https://docs.aws.amazon.com/sagemaker/latest/dg/clarify-measure-post-training-bias.html)\n",
    "\n",
    "#### Calculate pre-training and post-training Bias metrics\n",
    "\n",
    "Note: You can also execute pre-training and post-training bias detection jobs separately"
   ]
  },
  {
   "cell_type": "markdown",
   "metadata": {},
   "source": [
    "A DataConfig object communicates some basic information about data I/O to Clarify. We specify where to find the input dataset, where to store the output, the target column (label), the header names, and the dataset type.\n",
    "\n",
    "Similarly, the ModelConfig (created earlier for the explainability job) object communicates information about your trained model and ModelPredictedLabelConfig provides information on the format of your predictions."
   ]
  },
  {
   "cell_type": "code",
   "execution_count": null,
   "metadata": {
    "tags": []
   },
   "outputs": [],
   "source": [
    "# cell 51\n",
    "bias_report_prefix = \"{}/clarify-bias\".format( prefix)\n",
    "bias_report_output_path = \"s3://{}/{}\".format(bucket,bias_report_prefix)\n",
    "bias_data_config = clarify.DataConfig(\n",
    "    s3_data_input_path=train_raw,\n",
    "    s3_output_path=bias_report_output_path,\n",
    "    label=\"credit_risk\",\n",
    "    headers=training_data.columns.to_list(),\n",
    "    dataset_type=\"text/csv\",\n",
    ")\n",
    "predictions_config = clarify.ModelPredictedLabelConfig(label=None, probability=0)"
   ]
  },
  {
   "cell_type": "markdown",
   "metadata": {},
   "source": [
    "SageMaker Clarify also needs the sensitive columns (facets) and the desirable outcomes (facet_values_or_threshold).\n",
    "\n",
    "We specify this information in the BiasConfig API. Here  age is the facet that we analyze and 40 is the threshold. The group 'personal_status_sex' is used to form subgroups for the measurement of Conditional Demographic Disparity (CDD) metric only."
   ]
  },
  {
   "cell_type": "code",
   "execution_count": null,
   "metadata": {
    "tags": []
   },
   "outputs": [],
   "source": [
    "# cell 52\n",
    "bias_config = clarify.BiasConfig(\n",
    "    label_values_or_threshold=[1],\n",
    "    facet_name=\"age\",\n",
    "    facet_values_or_threshold=[40],\n",
    "    group_name=\"personal_status_sex\",\n",
    ")"
   ]
  },
  {
   "cell_type": "markdown",
   "metadata": {},
   "source": [
    "#### NOTE: THIS CELL WILL RUN FOR APPROX. 5-8 MINUTES! PLEASE BE PATIENT.\n",
    "For further documentation on SageMaker Clarify, you can refer the documentation [here](https://docs.aws.amazon.com/sagemaker/latest/dg/clarify-fairness-and-explainability.html)"
   ]
  },
  {
   "cell_type": "code",
   "execution_count": null,
   "metadata": {
    "tags": []
   },
   "outputs": [],
   "source": [
    "# cell 53\n",
    "clarify_processor.run_bias(\n",
    "    data_config=bias_data_config,\n",
    "    bias_config=bias_config,\n",
    "    model_config=model_config,\n",
    "    model_predicted_label_config=predictions_config,\n",
    "    pre_training_methods=\"all\",\n",
    "    post_training_methods=\"all\",\n",
    ")"
   ]
  },
  {
   "cell_type": "markdown",
   "metadata": {},
   "source": [
    "#### Viewing the Bias detection Report\n",
    "You can view the bis detection report in Studio under the experiments tab \n",
    "\n",
    "If you're not a Studio user yet, you can access this report at the following S3 bucket."
   ]
  },
  {
   "cell_type": "code",
   "execution_count": null,
   "metadata": {
    "tags": []
   },
   "outputs": [],
   "source": [
    "# cell 54\n",
    "bias_report_output_path"
   ]
  },
  {
   "cell_type": "code",
   "execution_count": null,
   "metadata": {
    "tags": []
   },
   "outputs": [],
   "source": [
    "# cell 55\n",
    "run_post_training_bias_processing_job_name = clarify_processor.latest_job.job_name\n",
    "run_post_training_bias_processing_job_name"
   ]
  },
  {
   "cell_type": "code",
   "execution_count": null,
   "metadata": {
    "tags": []
   },
   "outputs": [],
   "source": [
    "# cell 56\n",
    "\n",
    "from IPython.core.display import display, HTML\n",
    "\n",
    "display(\n",
    "    HTML(\n",
    "        '<b>Review <a target=\"blank\" href=\"https://console.aws.amazon.com/sagemaker/home?region={}#/processing-jobs/{}\">Processing Job</a></b>'.format(\n",
    "            region, run_post_training_bias_processing_job_name\n",
    "        )\n",
    "    )\n",
    ")\n",
    "\n"
   ]
  },
  {
   "cell_type": "code",
   "execution_count": null,
   "metadata": {
    "tags": []
   },
   "outputs": [],
   "source": [
    "# cell 57\n",
    "from IPython.core.display import display, HTML\n",
    "\n",
    "display(\n",
    "    HTML(\n",
    "        '<b>Review <a target=\"blank\" href=\"https://console.aws.amazon.com/cloudwatch/home?region={}#logStream:group=/aws/sagemaker/ProcessingJobs;prefix={};streamFilter=typeLogStreamPrefix\">CloudWatch Logs</a> After About 5 Minutes</b>'.format(\n",
    "            region, run_post_training_bias_processing_job_name\n",
    "        )\n",
    "    )\n",
    ")"
   ]
  },
  {
   "cell_type": "code",
   "execution_count": null,
   "metadata": {
    "tags": []
   },
   "outputs": [],
   "source": [
    "# cell 58\n",
    "from IPython.core.display import display, HTML\n",
    "\n",
    "display(\n",
    "    HTML(\n",
    "        '<b>Review <a target=\"blank\" href=\"https://s3.console.aws.amazon.com/s3/buckets/{}?prefix={}/\">S3 Output Data</a> After The Processing Job Has Completed</b>'.format(\n",
    "            bucket, bias_report_prefix\n",
    "        )\n",
    "    )\n",
    ")"
   ]
  },
  {
   "cell_type": "markdown",
   "metadata": {},
   "source": [
    "#### Download Report From S3"
   ]
  },
  {
   "cell_type": "code",
   "execution_count": null,
   "metadata": {
    "tags": []
   },
   "outputs": [],
   "source": [
    "# cell 59\n",
    "!aws s3 ls $bias_report_output_path/"
   ]
  },
  {
   "cell_type": "code",
   "execution_count": null,
   "metadata": {
    "tags": []
   },
   "outputs": [],
   "source": [
    "# cell 60\n",
    "bias_report_output_path"
   ]
  },
  {
   "cell_type": "code",
   "execution_count": null,
   "metadata": {
    "tags": []
   },
   "outputs": [],
   "source": [
    "# cell 61\n",
    "!aws s3 cp --recursive $bias_report_output_path ./generated_bias_report/"
   ]
  },
  {
   "cell_type": "markdown",
   "metadata": {},
   "source": [
    "#### View the bias report pdf that contains the pre-training bias and post-training bias metrics. "
   ]
  },
  {
   "cell_type": "code",
   "execution_count": null,
   "metadata": {
    "tags": []
   },
   "outputs": [],
   "source": [
    "# cell 62\n",
    "from IPython.core.display import display, HTML\n",
    "\n",
    "display(HTML('<b>Review <a target=\"blank\" href=\"./generated_bias_report/report.html\">Bias Report</a></b>'))"
   ]
  },
  {
   "cell_type": "markdown",
   "metadata": {},
   "source": [
    "### View Bias Report in Studio"
   ]
  },
  {
   "cell_type": "markdown",
   "metadata": {},
   "source": [
    "Alternatively, you can also view the bias report in Studio under the experiments tab. Each bias metric has detailed explanations with examples that you can explore. You could also summarize the results in a handy table!"
   ]
  },
  {
   "cell_type": "markdown",
   "metadata": {},
   "source": [
    "![title](bias_report.gif)"
   ]
  },
  {
   "cell_type": "markdown",
   "metadata": {},
   "source": [
    "Let us specifically look at a couple of pre-training and post-training bias metrics. \n",
    "\n",
    "Pre-training bias metrics\n",
    "1. Class imbalance\n",
    "2. DPL - Difference in positive proportions in true labels \n",
    "\n",
    "Post-training bias metrics\n",
    "1. DPPL - Difference in positive proportions in predicted labels\n",
    "2. DI - Disparate Impact"
   ]
  },
  {
   "cell_type": "code",
   "execution_count": null,
   "metadata": {
    "tags": []
   },
   "outputs": [],
   "source": [
    "# cell 63\n",
    "S3Downloader.download(s3_uri=bias_report_output_path + \"/analysis.json\", local_path=\"output\")\n",
    "\n",
    "with open(\"output/analysis.json\") as json_file:\n",
    "    data = json.load(json_file)\n",
    "    print(\"pre-training bias metrics\")\n",
    "    class_imbalance = data[\"pre_training_bias_metrics\"][\"facets\"][\"age\"][0][\"metrics\"][1][\"value\"]\n",
    "    print(\"class imbalance: \", class_imbalance)\n",
    "    DPL = data[\"pre_training_bias_metrics\"][\"facets\"][\"age\"][0][\"metrics\"][2][\"value\"]\n",
    "    print(\"DPL: \", DPL)\n",
    "    print(\"\\n\")\n",
    "    print(\"post training bias metrics\")\n",
    "    DPPL = data[\"post_training_bias_metrics\"][\"facets\"][\"age\"][0][\"metrics\"][6][\"value\"]\n",
    "    print(\"DPPL: \", DPPL)\n",
    "    DI = data[\"post_training_bias_metrics\"][\"facets\"][\"age\"][0][\"metrics\"][5][\"value\"]\n",
    "    print(\"DI: \", DI)"
   ]
  },
  {
   "cell_type": "markdown",
   "metadata": {},
   "source": [
    "Here, we see that for the \"age\" facet with threshold of [40] , [CI](https://docs.aws.amazon.com/sagemaker/latest/dg/clarify-bias-metric-class-imbalance.html) and [DI](https://docs.aws.amazon.com/sagemaker/latest/dg/clarify-post-training-bias-metric-di.html) are high , whereas [DPL](https://docs.aws.amazon.com/sagemaker/latest/dg/clarify-data-bias-metric-true-label-imbalance.html) and [DPPL](https://docs.aws.amazon.com/sagemaker/latest/dg/clarify-post-training-bias-metric-dppl.html) are low. Data pre-processing techniques can be applied to mitigate the pre-training bias and training algorithms can be re-evaluated to mitigate the post-training bias. "
   ]
  },
  {
   "cell_type": "markdown",
   "metadata": {},
   "source": [
    "### 6. Clean Up\n",
    "Finally, don't forget to clean up the resources we set up and used for this demo!"
   ]
  },
  {
   "cell_type": "code",
   "execution_count": null,
   "metadata": {
    "tags": []
   },
   "outputs": [],
   "source": [
    "# cell 64\n",
    "session.delete_endpoint(endpoint_name)"
   ]
  },
  {
   "cell_type": "code",
   "execution_count": null,
   "metadata": {
    "tags": []
   },
   "outputs": [],
   "source": [
    "# cell 65\n",
    "session.delete_model(pipeline_model.name)"
   ]
  },
  {
   "cell_type": "markdown",
   "metadata": {},
   "source": [
    "## 7. Additional Resources to explore "
   ]
  },
  {
   "cell_type": "markdown",
   "metadata": {},
   "source": [
    "* [Working toward fairer machine learning](https://www.amazon.science/research-awards/success-stories/algorithmic-bias-and-fairness-in-machine-learning)\n",
    "* [Fairness Measures for Machine Learning in Finance](https://pages.awscloud.com/rs/112-TZM-766/images/Fairness.Measures.for.Machine.Learning.in.Finance.pdf)\n",
    "* [Amazon SageMaker Clarify: Machine learning bias detection and explainability in the cloud](https://www.amazon.science/publications/amazon-sagemaker-clarify-machine-learning-bias-detection-and-explainability-in-the-cloud)\n",
    "* [Amazon AI Fairness and Explainability Whitepaper](https://pages.awscloud.com/rs/112-TZM-766/images/Amazon.AI.Fairness.and.Explainability.Whitepaper.pdf)\n",
    "* [How Clarify helps machine learning developers detect unintended bias](https://www.amazon.science/latest-news/how-clarify-helps-machine-learning-developers-detect-unintended-bias)"
   ]
  },
  {
   "cell_type": "code",
   "execution_count": null,
   "metadata": {},
   "outputs": [],
   "source": []
  },
  {
   "cell_type": "code",
   "execution_count": null,
   "metadata": {},
   "outputs": [],
   "source": []
  },
  {
   "cell_type": "code",
   "execution_count": null,
   "metadata": {},
   "outputs": [],
   "source": []
  },
  {
   "cell_type": "code",
   "execution_count": null,
   "metadata": {},
   "outputs": [],
   "source": []
  }
 ],
 "metadata": {
  "availableInstances": [
   {
    "_defaultOrder": 0,
    "_isFastLaunch": true,
    "category": "General purpose",
    "gpuNum": 0,
    "hideHardwareSpecs": false,
    "memoryGiB": 4,
    "name": "ml.t3.medium",
    "vcpuNum": 2
   },
   {
    "_defaultOrder": 1,
    "_isFastLaunch": false,
    "category": "General purpose",
    "gpuNum": 0,
    "hideHardwareSpecs": false,
    "memoryGiB": 8,
    "name": "ml.t3.large",
    "vcpuNum": 2
   },
   {
    "_defaultOrder": 2,
    "_isFastLaunch": false,
    "category": "General purpose",
    "gpuNum": 0,
    "hideHardwareSpecs": false,
    "memoryGiB": 16,
    "name": "ml.t3.xlarge",
    "vcpuNum": 4
   },
   {
    "_defaultOrder": 3,
    "_isFastLaunch": false,
    "category": "General purpose",
    "gpuNum": 0,
    "hideHardwareSpecs": false,
    "memoryGiB": 32,
    "name": "ml.t3.2xlarge",
    "vcpuNum": 8
   },
   {
    "_defaultOrder": 4,
    "_isFastLaunch": true,
    "category": "General purpose",
    "gpuNum": 0,
    "hideHardwareSpecs": false,
    "memoryGiB": 8,
    "name": "ml.m5.large",
    "vcpuNum": 2
   },
   {
    "_defaultOrder": 5,
    "_isFastLaunch": false,
    "category": "General purpose",
    "gpuNum": 0,
    "hideHardwareSpecs": false,
    "memoryGiB": 16,
    "name": "ml.m5.xlarge",
    "vcpuNum": 4
   },
   {
    "_defaultOrder": 6,
    "_isFastLaunch": false,
    "category": "General purpose",
    "gpuNum": 0,
    "hideHardwareSpecs": false,
    "memoryGiB": 32,
    "name": "ml.m5.2xlarge",
    "vcpuNum": 8
   },
   {
    "_defaultOrder": 7,
    "_isFastLaunch": false,
    "category": "General purpose",
    "gpuNum": 0,
    "hideHardwareSpecs": false,
    "memoryGiB": 64,
    "name": "ml.m5.4xlarge",
    "vcpuNum": 16
   },
   {
    "_defaultOrder": 8,
    "_isFastLaunch": false,
    "category": "General purpose",
    "gpuNum": 0,
    "hideHardwareSpecs": false,
    "memoryGiB": 128,
    "name": "ml.m5.8xlarge",
    "vcpuNum": 32
   },
   {
    "_defaultOrder": 9,
    "_isFastLaunch": false,
    "category": "General purpose",
    "gpuNum": 0,
    "hideHardwareSpecs": false,
    "memoryGiB": 192,
    "name": "ml.m5.12xlarge",
    "vcpuNum": 48
   },
   {
    "_defaultOrder": 10,
    "_isFastLaunch": false,
    "category": "General purpose",
    "gpuNum": 0,
    "hideHardwareSpecs": false,
    "memoryGiB": 256,
    "name": "ml.m5.16xlarge",
    "vcpuNum": 64
   },
   {
    "_defaultOrder": 11,
    "_isFastLaunch": false,
    "category": "General purpose",
    "gpuNum": 0,
    "hideHardwareSpecs": false,
    "memoryGiB": 384,
    "name": "ml.m5.24xlarge",
    "vcpuNum": 96
   },
   {
    "_defaultOrder": 12,
    "_isFastLaunch": false,
    "category": "General purpose",
    "gpuNum": 0,
    "hideHardwareSpecs": false,
    "memoryGiB": 8,
    "name": "ml.m5d.large",
    "vcpuNum": 2
   },
   {
    "_defaultOrder": 13,
    "_isFastLaunch": false,
    "category": "General purpose",
    "gpuNum": 0,
    "hideHardwareSpecs": false,
    "memoryGiB": 16,
    "name": "ml.m5d.xlarge",
    "vcpuNum": 4
   },
   {
    "_defaultOrder": 14,
    "_isFastLaunch": false,
    "category": "General purpose",
    "gpuNum": 0,
    "hideHardwareSpecs": false,
    "memoryGiB": 32,
    "name": "ml.m5d.2xlarge",
    "vcpuNum": 8
   },
   {
    "_defaultOrder": 15,
    "_isFastLaunch": false,
    "category": "General purpose",
    "gpuNum": 0,
    "hideHardwareSpecs": false,
    "memoryGiB": 64,
    "name": "ml.m5d.4xlarge",
    "vcpuNum": 16
   },
   {
    "_defaultOrder": 16,
    "_isFastLaunch": false,
    "category": "General purpose",
    "gpuNum": 0,
    "hideHardwareSpecs": false,
    "memoryGiB": 128,
    "name": "ml.m5d.8xlarge",
    "vcpuNum": 32
   },
   {
    "_defaultOrder": 17,
    "_isFastLaunch": false,
    "category": "General purpose",
    "gpuNum": 0,
    "hideHardwareSpecs": false,
    "memoryGiB": 192,
    "name": "ml.m5d.12xlarge",
    "vcpuNum": 48
   },
   {
    "_defaultOrder": 18,
    "_isFastLaunch": false,
    "category": "General purpose",
    "gpuNum": 0,
    "hideHardwareSpecs": false,
    "memoryGiB": 256,
    "name": "ml.m5d.16xlarge",
    "vcpuNum": 64
   },
   {
    "_defaultOrder": 19,
    "_isFastLaunch": false,
    "category": "General purpose",
    "gpuNum": 0,
    "hideHardwareSpecs": false,
    "memoryGiB": 384,
    "name": "ml.m5d.24xlarge",
    "vcpuNum": 96
   },
   {
    "_defaultOrder": 20,
    "_isFastLaunch": false,
    "category": "General purpose",
    "gpuNum": 0,
    "hideHardwareSpecs": true,
    "memoryGiB": 0,
    "name": "ml.geospatial.interactive",
    "supportedImageNames": [
     "sagemaker-geospatial-v1-0"
    ],
    "vcpuNum": 0
   },
   {
    "_defaultOrder": 21,
    "_isFastLaunch": true,
    "category": "Compute optimized",
    "gpuNum": 0,
    "hideHardwareSpecs": false,
    "memoryGiB": 4,
    "name": "ml.c5.large",
    "vcpuNum": 2
   },
   {
    "_defaultOrder": 22,
    "_isFastLaunch": false,
    "category": "Compute optimized",
    "gpuNum": 0,
    "hideHardwareSpecs": false,
    "memoryGiB": 8,
    "name": "ml.c5.xlarge",
    "vcpuNum": 4
   },
   {
    "_defaultOrder": 23,
    "_isFastLaunch": false,
    "category": "Compute optimized",
    "gpuNum": 0,
    "hideHardwareSpecs": false,
    "memoryGiB": 16,
    "name": "ml.c5.2xlarge",
    "vcpuNum": 8
   },
   {
    "_defaultOrder": 24,
    "_isFastLaunch": false,
    "category": "Compute optimized",
    "gpuNum": 0,
    "hideHardwareSpecs": false,
    "memoryGiB": 32,
    "name": "ml.c5.4xlarge",
    "vcpuNum": 16
   },
   {
    "_defaultOrder": 25,
    "_isFastLaunch": false,
    "category": "Compute optimized",
    "gpuNum": 0,
    "hideHardwareSpecs": false,
    "memoryGiB": 72,
    "name": "ml.c5.9xlarge",
    "vcpuNum": 36
   },
   {
    "_defaultOrder": 26,
    "_isFastLaunch": false,
    "category": "Compute optimized",
    "gpuNum": 0,
    "hideHardwareSpecs": false,
    "memoryGiB": 96,
    "name": "ml.c5.12xlarge",
    "vcpuNum": 48
   },
   {
    "_defaultOrder": 27,
    "_isFastLaunch": false,
    "category": "Compute optimized",
    "gpuNum": 0,
    "hideHardwareSpecs": false,
    "memoryGiB": 144,
    "name": "ml.c5.18xlarge",
    "vcpuNum": 72
   },
   {
    "_defaultOrder": 28,
    "_isFastLaunch": false,
    "category": "Compute optimized",
    "gpuNum": 0,
    "hideHardwareSpecs": false,
    "memoryGiB": 192,
    "name": "ml.c5.24xlarge",
    "vcpuNum": 96
   },
   {
    "_defaultOrder": 29,
    "_isFastLaunch": true,
    "category": "Accelerated computing",
    "gpuNum": 1,
    "hideHardwareSpecs": false,
    "memoryGiB": 16,
    "name": "ml.g4dn.xlarge",
    "vcpuNum": 4
   },
   {
    "_defaultOrder": 30,
    "_isFastLaunch": false,
    "category": "Accelerated computing",
    "gpuNum": 1,
    "hideHardwareSpecs": false,
    "memoryGiB": 32,
    "name": "ml.g4dn.2xlarge",
    "vcpuNum": 8
   },
   {
    "_defaultOrder": 31,
    "_isFastLaunch": false,
    "category": "Accelerated computing",
    "gpuNum": 1,
    "hideHardwareSpecs": false,
    "memoryGiB": 64,
    "name": "ml.g4dn.4xlarge",
    "vcpuNum": 16
   },
   {
    "_defaultOrder": 32,
    "_isFastLaunch": false,
    "category": "Accelerated computing",
    "gpuNum": 1,
    "hideHardwareSpecs": false,
    "memoryGiB": 128,
    "name": "ml.g4dn.8xlarge",
    "vcpuNum": 32
   },
   {
    "_defaultOrder": 33,
    "_isFastLaunch": false,
    "category": "Accelerated computing",
    "gpuNum": 4,
    "hideHardwareSpecs": false,
    "memoryGiB": 192,
    "name": "ml.g4dn.12xlarge",
    "vcpuNum": 48
   },
   {
    "_defaultOrder": 34,
    "_isFastLaunch": false,
    "category": "Accelerated computing",
    "gpuNum": 1,
    "hideHardwareSpecs": false,
    "memoryGiB": 256,
    "name": "ml.g4dn.16xlarge",
    "vcpuNum": 64
   },
   {
    "_defaultOrder": 35,
    "_isFastLaunch": false,
    "category": "Accelerated computing",
    "gpuNum": 1,
    "hideHardwareSpecs": false,
    "memoryGiB": 61,
    "name": "ml.p3.2xlarge",
    "vcpuNum": 8
   },
   {
    "_defaultOrder": 36,
    "_isFastLaunch": false,
    "category": "Accelerated computing",
    "gpuNum": 4,
    "hideHardwareSpecs": false,
    "memoryGiB": 244,
    "name": "ml.p3.8xlarge",
    "vcpuNum": 32
   },
   {
    "_defaultOrder": 37,
    "_isFastLaunch": false,
    "category": "Accelerated computing",
    "gpuNum": 8,
    "hideHardwareSpecs": false,
    "memoryGiB": 488,
    "name": "ml.p3.16xlarge",
    "vcpuNum": 64
   },
   {
    "_defaultOrder": 38,
    "_isFastLaunch": false,
    "category": "Accelerated computing",
    "gpuNum": 8,
    "hideHardwareSpecs": false,
    "memoryGiB": 768,
    "name": "ml.p3dn.24xlarge",
    "vcpuNum": 96
   },
   {
    "_defaultOrder": 39,
    "_isFastLaunch": false,
    "category": "Memory Optimized",
    "gpuNum": 0,
    "hideHardwareSpecs": false,
    "memoryGiB": 16,
    "name": "ml.r5.large",
    "vcpuNum": 2
   },
   {
    "_defaultOrder": 40,
    "_isFastLaunch": false,
    "category": "Memory Optimized",
    "gpuNum": 0,
    "hideHardwareSpecs": false,
    "memoryGiB": 32,
    "name": "ml.r5.xlarge",
    "vcpuNum": 4
   },
   {
    "_defaultOrder": 41,
    "_isFastLaunch": false,
    "category": "Memory Optimized",
    "gpuNum": 0,
    "hideHardwareSpecs": false,
    "memoryGiB": 64,
    "name": "ml.r5.2xlarge",
    "vcpuNum": 8
   },
   {
    "_defaultOrder": 42,
    "_isFastLaunch": false,
    "category": "Memory Optimized",
    "gpuNum": 0,
    "hideHardwareSpecs": false,
    "memoryGiB": 128,
    "name": "ml.r5.4xlarge",
    "vcpuNum": 16
   },
   {
    "_defaultOrder": 43,
    "_isFastLaunch": false,
    "category": "Memory Optimized",
    "gpuNum": 0,
    "hideHardwareSpecs": false,
    "memoryGiB": 256,
    "name": "ml.r5.8xlarge",
    "vcpuNum": 32
   },
   {
    "_defaultOrder": 44,
    "_isFastLaunch": false,
    "category": "Memory Optimized",
    "gpuNum": 0,
    "hideHardwareSpecs": false,
    "memoryGiB": 384,
    "name": "ml.r5.12xlarge",
    "vcpuNum": 48
   },
   {
    "_defaultOrder": 45,
    "_isFastLaunch": false,
    "category": "Memory Optimized",
    "gpuNum": 0,
    "hideHardwareSpecs": false,
    "memoryGiB": 512,
    "name": "ml.r5.16xlarge",
    "vcpuNum": 64
   },
   {
    "_defaultOrder": 46,
    "_isFastLaunch": false,
    "category": "Memory Optimized",
    "gpuNum": 0,
    "hideHardwareSpecs": false,
    "memoryGiB": 768,
    "name": "ml.r5.24xlarge",
    "vcpuNum": 96
   },
   {
    "_defaultOrder": 47,
    "_isFastLaunch": false,
    "category": "Accelerated computing",
    "gpuNum": 1,
    "hideHardwareSpecs": false,
    "memoryGiB": 16,
    "name": "ml.g5.xlarge",
    "vcpuNum": 4
   },
   {
    "_defaultOrder": 48,
    "_isFastLaunch": false,
    "category": "Accelerated computing",
    "gpuNum": 1,
    "hideHardwareSpecs": false,
    "memoryGiB": 32,
    "name": "ml.g5.2xlarge",
    "vcpuNum": 8
   },
   {
    "_defaultOrder": 49,
    "_isFastLaunch": false,
    "category": "Accelerated computing",
    "gpuNum": 1,
    "hideHardwareSpecs": false,
    "memoryGiB": 64,
    "name": "ml.g5.4xlarge",
    "vcpuNum": 16
   },
   {
    "_defaultOrder": 50,
    "_isFastLaunch": false,
    "category": "Accelerated computing",
    "gpuNum": 1,
    "hideHardwareSpecs": false,
    "memoryGiB": 128,
    "name": "ml.g5.8xlarge",
    "vcpuNum": 32
   },
   {
    "_defaultOrder": 51,
    "_isFastLaunch": false,
    "category": "Accelerated computing",
    "gpuNum": 1,
    "hideHardwareSpecs": false,
    "memoryGiB": 256,
    "name": "ml.g5.16xlarge",
    "vcpuNum": 64
   },
   {
    "_defaultOrder": 52,
    "_isFastLaunch": false,
    "category": "Accelerated computing",
    "gpuNum": 4,
    "hideHardwareSpecs": false,
    "memoryGiB": 192,
    "name": "ml.g5.12xlarge",
    "vcpuNum": 48
   },
   {
    "_defaultOrder": 53,
    "_isFastLaunch": false,
    "category": "Accelerated computing",
    "gpuNum": 4,
    "hideHardwareSpecs": false,
    "memoryGiB": 384,
    "name": "ml.g5.24xlarge",
    "vcpuNum": 96
   },
   {
    "_defaultOrder": 54,
    "_isFastLaunch": false,
    "category": "Accelerated computing",
    "gpuNum": 8,
    "hideHardwareSpecs": false,
    "memoryGiB": 768,
    "name": "ml.g5.48xlarge",
    "vcpuNum": 192
   },
   {
    "_defaultOrder": 55,
    "_isFastLaunch": false,
    "category": "Accelerated computing",
    "gpuNum": 8,
    "hideHardwareSpecs": false,
    "memoryGiB": 1152,
    "name": "ml.p4d.24xlarge",
    "vcpuNum": 96
   },
   {
    "_defaultOrder": 56,
    "_isFastLaunch": false,
    "category": "Accelerated computing",
    "gpuNum": 8,
    "hideHardwareSpecs": false,
    "memoryGiB": 1152,
    "name": "ml.p4de.24xlarge",
    "vcpuNum": 96
   },
   {
    "_defaultOrder": 57,
    "_isFastLaunch": false,
    "category": "Accelerated computing",
    "gpuNum": 0,
    "hideHardwareSpecs": false,
    "memoryGiB": 32,
    "name": "ml.trn1.2xlarge",
    "vcpuNum": 8
   },
   {
    "_defaultOrder": 58,
    "_isFastLaunch": false,
    "category": "Accelerated computing",
    "gpuNum": 0,
    "hideHardwareSpecs": false,
    "memoryGiB": 512,
    "name": "ml.trn1.32xlarge",
    "vcpuNum": 128
   },
   {
    "_defaultOrder": 59,
    "_isFastLaunch": false,
    "category": "Accelerated computing",
    "gpuNum": 0,
    "hideHardwareSpecs": false,
    "memoryGiB": 512,
    "name": "ml.trn1n.32xlarge",
    "vcpuNum": 128
   }
  ],
  "instance_type": "ml.t3.medium",
  "kernelspec": {
   "display_name": "Python 3 (ipykernel)",
   "language": "python",
   "name": "python3"
  },
  "language_info": {
   "codemirror_mode": {
    "name": "ipython",
    "version": 3
   },
   "file_extension": ".py",
   "mimetype": "text/x-python",
   "name": "python",
   "nbconvert_exporter": "python",
   "pygments_lexer": "ipython3",
   "version": "3.11.11"
  }
 },
 "nbformat": 4,
 "nbformat_minor": 4
}
