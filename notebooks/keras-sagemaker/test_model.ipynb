{
 "cells": [
  {
   "cell_type": "code",
   "execution_count": 12,
   "id": "1c12b75d-e87f-41cf-9094-90ca73eaf635",
   "metadata": {},
   "outputs": [
    {
     "name": "stdout",
     "output_type": "stream",
     "text": [
      "Prediction Result: {\n",
      "    \"predictions\": [[0.829636157]\n",
      "    ]\n",
      "}\n"
     ]
    }
   ],
   "source": [
    "import boto3\n",
    "import json\n",
    "\n",
    "# --- Config ---\n",
    "endpoint_name = \"mme-pisa-2022-2025-03-28-03-11-57\"\n",
    "target_model = \"United_StatesV3.model.tar.gz\"\n",
    "payload = {\n",
    "    \"instances\": [[1, 1, 1, 1, 1, 1, 1, 1, 1, 1, 1, 1, 1, 1, 1, 1, 1, 1, 1, 1]]\n",
    "}\n",
    "\n",
    "# --- Create SageMaker runtime client ---\n",
    "runtime = boto3.client(\"sagemaker-runtime\")\n",
    "\n",
    "# --- Invoke endpoint ---\n",
    "response = runtime.invoke_endpoint(\n",
    "    EndpointName=endpoint_name,\n",
    "    ContentType=\"application/json\",\n",
    "    TargetModel=target_model,\n",
    "    Body=json.dumps(payload),\n",
    ")\n",
    "\n",
    "# --- Decode response ---\n",
    "result = response[\"Body\"].read().decode(\"utf-8\")\n",
    "print(\"Prediction Result:\", result)\n"
   ]
  },
  {
   "cell_type": "code",
   "execution_count": null,
   "id": "dc9b39c6-4a29-43f2-8cd1-8d7267f3fb02",
   "metadata": {},
   "outputs": [],
   "source": [
    "\tFeature\tMeanAbsSHAP\n",
    "0\tST059Q02JA\t0.017469\n",
    "1\tST255Q01JA\t0.016948\n",
    "2\tST230Q01JA\t0.014993\n",
    "3\tST251Q04JA\t0.014930\n",
    "4\tST292Q03JA\t0.014628\n",
    "5\tST263Q02JA\t0.014378\n",
    "6\tST268Q04JA\t0.013407\n",
    "7\tST251Q06JA\t0.012051\n",
    "8\tST251Q01JA\t0.011998\n",
    "9\tST291Q01JA\t0.010350\n",
    "10\tST259Q01JA\t0.009812\n",
    "11\tFL170Q02JA\t0.009526\n",
    "12\tFL170Q01JA\t0.009512\n",
    "13\tFL166Q05HA\t0.009286\n",
    "14\tFL174Q04JA\t0.009244\n",
    "15\tIC177Q05JA\t0.009086\n",
    "16\tIC178Q05JA\t0.008992\n",
    "17\tFL171Q10JA\t0.008834\n",
    "18\tST251Q03JA\t0.008785\n",
    "19\tIC174Q02JA\t0.008779"
   ]
  }
 ],
 "metadata": {
  "kernelspec": {
   "display_name": "Python 3 (ipykernel)",
   "language": "python",
   "name": "python3"
  },
  "language_info": {
   "codemirror_mode": {
    "name": "ipython",
    "version": 3
   },
   "file_extension": ".py",
   "mimetype": "text/x-python",
   "name": "python",
   "nbconvert_exporter": "python",
   "pygments_lexer": "ipython3",
   "version": "3.11.11"
  }
 },
 "nbformat": 4,
 "nbformat_minor": 5
}
