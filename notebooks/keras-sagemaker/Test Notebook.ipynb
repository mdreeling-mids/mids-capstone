{
 "cells": [
  {
   "cell_type": "code",
   "execution_count": null,
   "id": "2995c59a-b937-494b-b40e-e71bec928341",
   "metadata": {},
   "outputs": [],
   "source": [
    "import sagemaker\n",
    "my_sagemaker_role = sagemaker.get_execution_role()"
   ]
  },
  {
   "cell_type": "code",
   "execution_count": null,
   "id": "2c6927ce-d4c6-4445-88f4-5917418c82ed",
   "metadata": {},
   "outputs": [],
   "source": [
    "from sagemaker.tensorflow import TensorFlowModel"
   ]
  },
  {
   "cell_type": "code",
   "execution_count": null,
   "id": "6a5f9ca9-49a0-49c4-9f43-e44b50a9ec9b",
   "metadata": {},
   "outputs": [],
   "source": [
    "!pip install --upgrade sagemaker"
   ]
  },
  {
   "cell_type": "code",
   "execution_count": null,
   "id": "354b1da6-8a6a-44a1-b3e6-3b6fd75daef9",
   "metadata": {},
   "outputs": [],
   "source": [
    "import tarfile\n",
    "import os\n",
    "import shutil\n",
    "\n",
    "def extract_and_inspect_model(tar_path, extract_dir=\"tmp_inspect\"):\n",
    "    # Clean up old temp dir\n",
    "    shutil.rmtree(extract_dir, ignore_errors=True)\n",
    "    os.makedirs(extract_dir, exist_ok=True)\n",
    "\n",
    "    # Extract tar.gz\n",
    "    with tarfile.open(tar_path, \"r:gz\") as tar:\n",
    "        tar.extractall(extract_dir)\n",
    "\n",
    "    # Find model directory\n",
    "    for root, dirs, files in os.walk(extract_dir):\n",
    "        if \"saved_model.pb\" in files:\n",
    "            model_path = root\n",
    "            break\n",
    "    else:\n",
    "        raise FileNotFoundError(\"No saved_model.pb found in extracted archive.\")\n",
    "\n",
    "    print(f\"✅ Found SavedModel at: {model_path}\")\n",
    "    \n",
    "    # Run saved_model_cli\n",
    "    os.system(f\"saved_model_cli show --all --dir {model_path}\")"
   ]
  },
  {
   "cell_type": "code",
   "execution_count": null,
   "id": "5c6bd102-fdf8-4625-9fa7-df6356c4b6aa",
   "metadata": {},
   "outputs": [],
   "source": [
    "extract_and_inspect_model(\"YueFeng_Test/saved_model_United_States.tar.gz\")"
   ]
  },
  {
   "cell_type": "code",
   "execution_count": null,
   "id": "66aee7c6-3c82-441b-9c66-e08613cfd681",
   "metadata": {},
   "outputs": [],
   "source": [
    "import os\n",
    "from sagemaker import Session\n",
    "\n",
    "def upload_all_models_to_s3(source_dir=\"models_for_deploy\", s3_prefix=\"model\"):\n",
    "    sess = Session()\n",
    "    bucket = sess.default_bucket()\n",
    "    s3_paths = {}\n",
    "\n",
    "    for filename in os.listdir(source_dir):\n",
    "        if filename.endswith(\".model.tar.gz\"):\n",
    "            local_path = os.path.join(source_dir, filename)\n",
    "            print(f\"☁️ Uploading {filename} → s3://{bucket}/{s3_prefix}/{filename}\")\n",
    "            \n",
    "            s3_uri = sess.upload_data(\n",
    "                path=local_path,\n",
    "                key_prefix=s3_prefix\n",
    "            )\n",
    "            s3_paths[filename] = s3_uri\n",
    "            print(f\"✅ Uploaded to: {s3_uri}\")\n",
    "\n",
    "    return s3_paths\n",
    "    \n",
    "uploaded_model_uris = upload_all_models_to_s3()"
   ]
  },
  {
   "cell_type": "code",
   "execution_count": null,
   "id": "67492089-71e4-4b29-b8e6-9ee528e7c034",
   "metadata": {},
   "outputs": [],
   "source": [
    "tf_model = TensorFlowModel(\n",
    "    model_data=\"s3://my-sagemaker-bucket/.../saved_model_United_States.tar.gz\",\n",
    "    role=my_sagemaker_role,\n",
    "    framework_version=\"2.9\",\n",
    "    py_version=\"py3\"           # Now recognized in newer SageMaker SDK\n",
    ")\n",
    "\n",
    "predictor = tf_model.deploy(\n",
    "    initial_instance_count=1,\n",
    "    instance_type=\"ml.m5.large\"\n",
    ")\n"
   ]
  },
  {
   "cell_type": "code",
   "execution_count": null,
   "id": "a5f5c45d-ee70-47b8-9728-04a5c879c183",
   "metadata": {},
   "outputs": [],
   "source": []
  }
 ],
 "metadata": {
  "kernelspec": {
   "display_name": "Python 3 (ipykernel)",
   "language": "python",
   "name": "python3"
  },
  "language_info": {
   "codemirror_mode": {
    "name": "ipython",
    "version": 3
   },
   "file_extension": ".py",
   "mimetype": "text/x-python",
   "name": "python",
   "nbconvert_exporter": "python",
   "pygments_lexer": "ipython3",
   "version": "3.11.11"
  }
 },
 "nbformat": 4,
 "nbformat_minor": 5
}
